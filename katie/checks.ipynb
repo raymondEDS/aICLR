{
 "cells": [
  {
   "cell_type": "code",
   "execution_count": 1,
   "metadata": {},
   "outputs": [],
   "source": [
    "import pandas as pd"
   ]
  },
  {
   "cell_type": "code",
   "execution_count": 3,
   "metadata": {},
   "outputs": [],
   "source": [
    "df = pd.read_csv('df_SPSM_results.csv')"
   ]
  },
  {
   "cell_type": "code",
   "execution_count": 5,
   "metadata": {},
   "outputs": [
    {
     "data": {
      "text/html": [
       "<div>\n",
       "<style scoped>\n",
       "    .dataframe tbody tr th:only-of-type {\n",
       "        vertical-align: middle;\n",
       "    }\n",
       "\n",
       "    .dataframe tbody tr th {\n",
       "        vertical-align: top;\n",
       "    }\n",
       "\n",
       "    .dataframe thead th {\n",
       "        text-align: right;\n",
       "    }\n",
       "</style>\n",
       "<table border=\"1\" class=\"dataframe\">\n",
       "  <thead>\n",
       "    <tr style=\"text-align: right;\">\n",
       "      <th></th>\n",
       "      <th>paper_id</th>\n",
       "      <th>title</th>\n",
       "      <th>strata</th>\n",
       "      <th>keywords</th>\n",
       "      <th>pscore</th>\n",
       "      <th>treatment</th>\n",
       "      <th>AVG_rating</th>\n",
       "      <th>conf_year</th>\n",
       "      <th>transformed_keywords</th>\n",
       "    </tr>\n",
       "  </thead>\n",
       "  <tbody>\n",
       "    <tr>\n",
       "      <th>0</th>\n",
       "      <td>B1-Hhnslg</td>\n",
       "      <td>Prototypical Networks for Few-shot Learning</td>\n",
       "      <td>3</td>\n",
       "      <td>[\"Deep learning\", \"Transfer Learning\"]</td>\n",
       "      <td>0.514162</td>\n",
       "      <td>1</td>\n",
       "      <td>5.000000</td>\n",
       "      <td>2017</td>\n",
       "      <td>deep_learning transfer_learning</td>\n",
       "    </tr>\n",
       "    <tr>\n",
       "      <th>1</th>\n",
       "      <td>B1-q5Pqxl</td>\n",
       "      <td>Machine Comprehension Using Match-LSTM and Ans...</td>\n",
       "      <td>3</td>\n",
       "      <td>[\"Natural language processing\", \"Deep learning\"]</td>\n",
       "      <td>0.584739</td>\n",
       "      <td>1</td>\n",
       "      <td>6.333333</td>\n",
       "      <td>2017</td>\n",
       "      <td>natural_language_processing deep_learning</td>\n",
       "    </tr>\n",
       "    <tr>\n",
       "      <th>2</th>\n",
       "      <td>B12Js_yRb</td>\n",
       "      <td>Learning to Count Objects in Natural Images fo...</td>\n",
       "      <td>3</td>\n",
       "      <td>[\"visual question answering\", \"vqa\", \"counting\"]</td>\n",
       "      <td>0.477856</td>\n",
       "      <td>0</td>\n",
       "      <td>5.333333</td>\n",
       "      <td>2018</td>\n",
       "      <td>visual_question_answering vqa counting</td>\n",
       "    </tr>\n",
       "    <tr>\n",
       "      <th>3</th>\n",
       "      <td>B13EC5u6W</td>\n",
       "      <td>Thinking like a machine — generating visual ra...</td>\n",
       "      <td>3</td>\n",
       "      <td>[\"interpretability\", \"generative adversarial n...</td>\n",
       "      <td>0.508692</td>\n",
       "      <td>0</td>\n",
       "      <td>6.333333</td>\n",
       "      <td>2018</td>\n",
       "      <td>interpretability generative_adversarial_networks</td>\n",
       "    </tr>\n",
       "    <tr>\n",
       "      <th>4</th>\n",
       "      <td>B13njo1R-</td>\n",
       "      <td>Progressive Reinforcement Learning with Distil...</td>\n",
       "      <td>3</td>\n",
       "      <td>[\"Reinforcement Learning\", \"Distillation\", \"Tr...</td>\n",
       "      <td>0.498078</td>\n",
       "      <td>0</td>\n",
       "      <td>6.333333</td>\n",
       "      <td>2018</td>\n",
       "      <td>reinforcement_learning distillation transfer_...</td>\n",
       "    </tr>\n",
       "  </tbody>\n",
       "</table>\n",
       "</div>"
      ],
      "text/plain": [
       "    paper_id                                              title  strata  \\\n",
       "0  B1-Hhnslg        Prototypical Networks for Few-shot Learning       3   \n",
       "1  B1-q5Pqxl  Machine Comprehension Using Match-LSTM and Ans...       3   \n",
       "2  B12Js_yRb  Learning to Count Objects in Natural Images fo...       3   \n",
       "3  B13EC5u6W  Thinking like a machine — generating visual ra...       3   \n",
       "4  B13njo1R-  Progressive Reinforcement Learning with Distil...       3   \n",
       "\n",
       "                                            keywords    pscore  treatment  \\\n",
       "0             [\"Deep learning\", \"Transfer Learning\"]  0.514162          1   \n",
       "1   [\"Natural language processing\", \"Deep learning\"]  0.584739          1   \n",
       "2   [\"visual question answering\", \"vqa\", \"counting\"]  0.477856          0   \n",
       "3  [\"interpretability\", \"generative adversarial n...  0.508692          0   \n",
       "4  [\"Reinforcement Learning\", \"Distillation\", \"Tr...  0.498078          0   \n",
       "\n",
       "   AVG_rating  conf_year                               transformed_keywords  \n",
       "0    5.000000       2017                    deep_learning transfer_learning  \n",
       "1    6.333333       2017          natural_language_processing deep_learning  \n",
       "2    5.333333       2018             visual_question_answering vqa counting  \n",
       "3    6.333333       2018   interpretability generative_adversarial_networks  \n",
       "4    6.333333       2018   reinforcement_learning distillation transfer_...  "
      ]
     },
     "execution_count": 5,
     "metadata": {},
     "output_type": "execute_result"
    }
   ],
   "source": [
    "df.head()"
   ]
  },
  {
   "cell_type": "code",
   "execution_count": 10,
   "metadata": {},
   "outputs": [
    {
     "data": {
      "text/plain": [
       "472"
      ]
     },
     "execution_count": 10,
     "metadata": {},
     "output_type": "execute_result"
    }
   ],
   "source": [
    "df_sub = df[(df['strata'] == 3) & (df['treatment'] == 1)]\n",
    "len(df_sub)"
   ]
  },
  {
   "cell_type": "code",
   "execution_count": 15,
   "metadata": {},
   "outputs": [
    {
     "data": {
      "text/plain": [
       "{2, 3, 4}"
      ]
     },
     "execution_count": 15,
     "metadata": {},
     "output_type": "execute_result"
    }
   ],
   "source": [
    "set(df['strata'])"
   ]
  },
  {
   "cell_type": "code",
   "execution_count": 14,
   "metadata": {},
   "outputs": [
    {
     "name": "stdout",
     "output_type": "stream",
     "text": [
      "strata=1 T=0 n=0\n",
      "strata=1 T=1 n=0\n",
      "\n",
      "strata=2 T=0 n=45\n",
      "strata=2 T=1 n=9\n",
      "\n",
      "strata=3 T=0 n=851\n",
      "strata=3 T=1 n=472\n",
      "\n",
      "strata=4 T=0 n=14\n",
      "strata=4 T=1 n=9\n",
      "\n",
      "strata=5 T=0 n=0\n",
      "strata=5 T=1 n=0\n",
      "\n"
     ]
    }
   ],
   "source": [
    "for strata in range(1, 6): \n",
    "    for treatment in range(0, 2): \n",
    "        df_sub = df[(df['strata'] == strata) & (df['treatment'] == treatment)]\n",
    "        print(f'strata={strata} T={treatment} n={len(df_sub)}')\n",
    "    print()"
   ]
  },
  {
   "cell_type": "code",
   "execution_count": null,
   "metadata": {},
   "outputs": [],
   "source": []
  }
 ],
 "metadata": {
  "kernelspec": {
   "display_name": "purl2",
   "language": "python",
   "name": "python3"
  },
  "language_info": {
   "codemirror_mode": {
    "name": "ipython",
    "version": 3
   },
   "file_extension": ".py",
   "mimetype": "text/x-python",
   "name": "python",
   "nbconvert_exporter": "python",
   "pygments_lexer": "ipython3",
   "version": "3.9.0"
  },
  "orig_nbformat": 4,
  "vscode": {
   "interpreter": {
    "hash": "0cc6c09f727d2466165c9a93580b0d300b116d99fd1385e141f3fdfd2187da9c"
   }
  }
 },
 "nbformat": 4,
 "nbformat_minor": 2
}
