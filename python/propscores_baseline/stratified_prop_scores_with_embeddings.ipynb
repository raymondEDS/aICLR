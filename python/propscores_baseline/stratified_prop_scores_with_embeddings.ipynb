{
 "cells": [
  {
   "cell_type": "markdown",
   "id": "aa39978b",
   "metadata": {},
   "source": [
    "# Stratified Propensity Score Matching Baseline \n",
    "\n",
    "### Propensity Score Model \n",
    "- Input: Same embeddings used in matching \n",
    "- Model: \n",
    "    - Logistic regression P(T|E) where T is binary treatment and E is the embeddings\n",
    "    - Cross-fitting with cross validation for the regularizer \n",
    "- Ouput: Inference scores for each document that are the propensity scores \n",
    "    \n",
    "### Causal Estimator: Stratified Propensity Score Matching  \n",
    "- Input: Inference scores for each doc (above) \n",
    "- Approach: 5 strata, matching causal estimator \n",
    "- Output: Causal ATE "
   ]
  },
  {
   "cell_type": "code",
   "execution_count": 1,
   "id": "577b56fb",
   "metadata": {},
   "outputs": [
    {
     "name": "stderr",
     "output_type": "stream",
     "text": [
      "/opt/anaconda3/envs/nlp/lib/python3.10/site-packages/tqdm/auto.py:22: TqdmWarning: IProgress not found. Please update jupyter and ipywidgets. See https://ipywidgets.readthedocs.io/en/stable/user_install.html\n",
      "  from .autonotebook import tqdm as notebook_tqdm\n"
     ]
    }
   ],
   "source": [
    "# imports \n",
    "import numpy as np \n",
    "import pandas as pd\n",
    "from tqdm.auto import tqdm\n",
    "from sklearn.linear_model import LogisticRegression\n",
    "from sklearn.pipeline import Pipeline\n",
    "from sklearn.model_selection import GridSearchCV, StratifiedKFold, StratifiedShuffleSplit\n",
    "from sklearn.calibration import calibration_curve\n",
    "from copy import deepcopy\n",
    "import pprint\n",
    "import ast\n",
    "import statistics\n",
    "import math\n",
    "import time\n",
    "from sklearn.metrics import (\n",
    "    f1_score,\n",
    "    accuracy_score,\n",
    "    mean_squared_error,\n",
    "    r2_score,\n",
    "    roc_auc_score,\n",
    "    average_precision_score,\n",
    ")\n",
    "import matplotlib.pyplot as plt"
   ]
  },
  {
   "cell_type": "code",
   "execution_count": 2,
   "id": "a1290c6c",
   "metadata": {},
   "outputs": [],
   "source": [
    "# create synthetic toy data just to make sure code runs \n",
    "# Raymond--you'll replace this with the real data \n",
    "nT1 = 100 #number of T=1 units\n",
    "nT0 = 300 #number of T=0 units \n",
    "n_total = nT1 + nT0\n",
    "T = np.array([1]*nT1 + [0]*nT0) #array with treatment values \n",
    "np.mean(T)\n",
    "\n",
    "docids = np.arange(n_total)\n",
    "\n",
    "embedding_dim = 50 #dimensionality of embeddings which is 768\n",
    "E = np.random.randn(n_total, embedding_dim)\n",
    "\n",
    "assert E.shape[0] == T.shape[0] == n_total == docids.shape[0]"
   ]
  },
  {
   "cell_type": "code",
   "execution_count": 3,
   "id": "25fe0b82",
   "metadata": {},
   "outputs": [
    {
     "name": "stderr",
     "output_type": "stream",
     "text": [
      "100%|████████████████████████████████████████| 2819/2819 [00:03<00:00, 781.14it/s]\n"
     ]
    }
   ],
   "source": [
    "import csv\n",
    "embedding_path = '../../data/specter/df_embeddings.csv'\n",
    "submission_path = '../../data/database/outputs/df_submission_rating.csv'\n",
    "#embedding_path = '../data/specter/df_embeddings_abstract_only.csv'\n",
    "\n",
    "df_embeddings = pd.read_csv(embedding_path)\n",
    "df_embeddings = df_embeddings.T\n",
    "df_embeddings.columns=df_embeddings.iloc[0]\n",
    "df_embeddings = df_embeddings.iloc[1: , :]\n",
    "#df_embeddings.to_csv('df_embeddings.csv', index = False)\n",
    "\n",
    "tqdm.pandas()\n",
    "def get_numpy (row):\n",
    "  return ast.literal_eval(row.embedding)\n",
    "\n",
    "df_embeddings['embedding'] = df_embeddings.progress_apply(lambda x: get_numpy(x), axis =1)\n",
    "\n",
    "df_submissions = pd.read_csv(submission_path)\n",
    "df_submission_labels = df_submissions[['id','title','conf_year','keywords','AVG_rating']]\n",
    "\n",
    "df_embeddings = df_embeddings.merge(df_submission_labels[df_submission_labels['conf_year'].isin([2017,2018])], left_on='paper_id',right_on='id')\n",
    "\n",
    "df_embeddings['treatment'] = df_embeddings['conf_year'].replace([2017,2018],[1,0])"
   ]
  },
  {
   "cell_type": "code",
   "execution_count": 7,
   "id": "d85e1f52",
   "metadata": {},
   "outputs": [
    {
     "name": "stdout",
     "output_type": "stream",
     "text": [
      "pass\n"
     ]
    }
   ],
   "source": [
    "np_embeddings =np.array([np.array(embedding) for embedding in df_embeddings.embedding.to_list()])\n",
    "\n",
    "\n",
    "paper_id = np.array(df_embeddings.id.to_list())\n",
    "\n",
    "treatment_id = np.array(df_embeddings.treatment.to_list())\n",
    "\n",
    "\n",
    "if np_embeddings.shape[0] == treatment_id.shape[0] == df_embeddings.shape[0] == paper_id.shape[0]:\n",
    "    \n",
    "    E= np_embeddings\n",
    "    T = treatment_id\n",
    "    n_total = df_embeddings.shape[0]\n",
    "    docids = paper_id\n",
    "    \n",
    "    if E.shape[0] == T.shape[0] == n_total == docids.shape[0]:\n",
    "        print('pass')\n",
    "    else:\n",
    "        print('error')\n",
    "    \n",
    "else:\n",
    "    print('error')"
   ]
  },
  {
   "cell_type": "code",
   "execution_count": 8,
   "id": "2e383647",
   "metadata": {},
   "outputs": [
    {
     "data": {
      "text/plain": [
       "(1400, 8)"
      ]
     },
     "execution_count": 8,
     "metadata": {},
     "output_type": "execute_result"
    }
   ],
   "source": [
    "df_embeddings.shape"
   ]
  },
  {
   "cell_type": "markdown",
   "id": "cf0b9713",
   "metadata": {},
   "source": [
    "### Propensity Score Model "
   ]
  },
  {
   "cell_type": "code",
   "execution_count": 9,
   "id": "fefcdfa0",
   "metadata": {},
   "outputs": [],
   "source": [
    "NUM_CROSSFIT_SPLITS = 2\n",
    "NUM_CROSSVAL_SPLITS = 4 \n",
    "RANDOM_STATE = 42 #for replication \n",
    "\n",
    "CLASSIFIER = Pipeline([(\n",
    "            \"model\",\n",
    "            LogisticRegression(\n",
    "                l1_ratio=0.1,\n",
    "                solver=\"saga\",\n",
    "                max_iter=20000,\n",
    "                tol=1e-3, \n",
    "                penalty=\"elasticnet\",\n",
    "                dual=False,\n",
    "                class_weight=\"balanced\",\n",
    "                random_state=42,\n",
    "                ),),])\n",
    "\n",
    "CLASSIFIER_GRID = {\n",
    "    \"model__C\": [1e-4, 1e-3, 1e-2, 1e-1, 1e0, 1e1],\n",
    "}"
   ]
  },
  {
   "cell_type": "code",
   "execution_count": 10,
   "id": "41a97104",
   "metadata": {},
   "outputs": [
    {
     "name": "stdout",
     "output_type": "stream",
     "text": [
      "Crossfit num= 0\n",
      "Crossfit num= 1\n",
      "\n",
      "19.240813970565796\n"
     ]
    }
   ],
   "source": [
    "#Note: May take awhile to run\n",
    "prob_t_training = np.array([np.nan]*n_total) #only for reporting training acc numbers \n",
    "prob_t_inference = np.array([np.nan]*n_total) #array to save predicted propensity scores \n",
    "# Crossfitting \n",
    "\n",
    "start = time.time()\n",
    "\n",
    "crossfit_split = list(StratifiedKFold(n_splits=NUM_CROSSFIT_SPLITS, shuffle=True, random_state=RANDOM_STATE).split(E, T))\n",
    "for crossfit_number, (train_inds, test_inds) in enumerate(crossfit_split):\n",
    "    print('Crossfit num=', crossfit_number)\n",
    "    # Training \n",
    "    # Cross validation for the training split \n",
    "    inner_cv = StratifiedShuffleSplit(\n",
    "                n_splits=NUM_CROSSVAL_SPLITS,\n",
    "                test_size=1/NUM_CROSSVAL_SPLITS,\n",
    "                random_state= RANDOM_STATE,\n",
    "            )\n",
    "    \n",
    "    t_model_gridsearch = GridSearchCV(\n",
    "                        estimator=deepcopy(CLASSIFIER),\n",
    "                        param_grid=deepcopy(CLASSIFIER_GRID),\n",
    "                        cv=inner_cv,\n",
    "                        scoring=\"roc_auc\",\n",
    "                        refit=True,\n",
    "                    )\n",
    "    \n",
    "    t_model_gridsearch.fit(E[train_inds], T[train_inds])\n",
    "    prob_t_training[train_inds] = t_model_gridsearch.predict_proba(E[train_inds])[:, 1]\n",
    "        \n",
    "    # Inference\n",
    "    # Probability of T=1\n",
    "    prop_t = t_model_gridsearch.predict_proba(E[test_inds])[:, 1]\n",
    "    prob_t_inference[test_inds] = prop_t\n",
    "\n",
    "end = time.time()\n",
    "\n",
    "#Subtract Start Time from The End Time\n",
    "total_time = end - start\n",
    "print(\"\\n\"+ str(total_time))"
   ]
  },
  {
   "cell_type": "code",
   "execution_count": 11,
   "id": "51a186a2",
   "metadata": {},
   "outputs": [],
   "source": [
    "# make sure all items get inference predictions \n",
    "assert np.mean(np.isnan(prob_t_training)) == 0.0\n",
    "assert np.mean(np.isnan(prob_t_inference)) == 0.0"
   ]
  },
  {
   "cell_type": "code",
   "execution_count": 12,
   "id": "1b4fb2b3",
   "metadata": {},
   "outputs": [
    {
     "name": "stdout",
     "output_type": "stream",
     "text": [
      "{'treatment_model--acc': 0.6185714285714285,\n",
      " 'treatment_model--ave_prec': 0.5338426760396594,\n",
      " 'treatment_model--calibration_rmse': 0.19297809623222564,\n",
      " 'treatment_model--f1': 0.5364583333333334,\n",
      " 'treatment_model--mean_hard_pred': 0.47285714285714286,\n",
      " 'treatment_model--mean_soft_pred': 0.49506345821724707,\n",
      " 'treatment_model--mean_true': 0.35,\n",
      " 'treatment_model--roc_auc': 0.6796232339089481}\n"
     ]
    }
   ],
   "source": [
    "# Training metrics \n",
    "pred_model_report_out = {}\n",
    "\n",
    "def mean_predictions(dummy, y_pred):\n",
    "    \"\"\"\n",
    "    Helpful for error diagnosing. Returns the mean of the predcted values\n",
    "    Args:\n",
    "        - dummy : we need this arg so that this function looks the same as\n",
    "        sklearn error metrics that take inputs y_true, y_pred\n",
    "        - y_pred : np.array\n",
    "    \"\"\"\n",
    "    return np.mean(y_pred)\n",
    "\n",
    "def calibration_rmse(y_true, y_pred): \n",
    "    \"\"\"\n",
    "    Calculates calibration root mean squared error (RMSE). \n",
    "    Calibration is the extent to which a model's probabilistic predictions match their \n",
    "    corresponding empirical frequencies. \n",
    "    See Nguyen and O'Connor 2015's introduction and definitions \n",
    "    https://www.emnlp2015.org/proceedings/EMNLP/pdf/EMNLP182.pdf\n",
    "    \"\"\"\n",
    "    prob_true, prob_pred = calibration_curve(y_true, y_pred, n_bins=10, strategy='uniform')\n",
    "    rms = mean_squared_error(prob_true, prob_pred, squared=False) #False returns RMSE vs MSE \n",
    "    return rms\n",
    "\n",
    "\n",
    "def mean_truth(y_true, dummy):\n",
    "    \"\"\"\n",
    "    Helpful for error diagnosing. Returns the mean of the true values\n",
    "    Args:\n",
    "        - y_true : np.array\n",
    "        - dummy : we need this arg so that this function looks the same as\n",
    "        sklearn error metrics that take inputs y_true, y_pred\n",
    "    \"\"\"\n",
    "    return np.mean(y_true)\n",
    "\n",
    "# these classification metrics need the \"hard\" predictions, e.g. y=[0, 0, 1, ...]\n",
    "class_hard_name2metric_func = {\n",
    "    \"f1\": f1_score,\n",
    "    \"acc\": accuracy_score,\n",
    "    \"mean_hard_pred\": mean_predictions,\n",
    "    \"mean_true\": mean_truth,  # should be same for hard or soft\n",
    "}\n",
    "\n",
    "# these classification metrics need the \"score\" predictions, e.g. y=[0.6, 0.77, 0.2, ...]\n",
    "class_scores_name2metric_func = {\n",
    "    \"roc_auc\": roc_auc_score,\n",
    "    \"ave_prec\": average_precision_score,\n",
    "    \"calibration_rmse\": calibration_rmse,\n",
    "    \"mean_soft_pred\": mean_predictions,\n",
    "    \"mean_true\": mean_truth,  # should be same for hard or soft\n",
    "}\n",
    "\n",
    "#hard classifications\n",
    "t_pred_hard = (prob_t_training > 0.5).astype(int)\n",
    "\n",
    "assert t_pred_hard.shape == prob_t_training.shape == T.shape\n",
    "\n",
    "str_sep = \"--\"\n",
    "for metric_str, metric_func in class_hard_name2metric_func.items():\n",
    "    pred_model_report_out[\"treatment_model\" + str_sep + metric_str] = metric_func(T, t_pred_hard)\n",
    "for metric_str, metric_func in class_scores_name2metric_func.items():\n",
    "    pred_model_report_out[\"treatment_model\" + str_sep + metric_str] = metric_func(T, prob_t_training)\n",
    "\n",
    "pprint.pprint(pred_model_report_out)\n",
    "\n",
    "#TODO: Could do this for cross-validation splits as well "
   ]
  },
  {
   "cell_type": "markdown",
   "id": "2ad849b4",
   "metadata": {},
   "source": [
    "### Causal Estimator: Stratified Propensity Score Matching  "
   ]
  },
  {
   "cell_type": "code",
   "execution_count": 13,
   "id": "f5e2282f",
   "metadata": {},
   "outputs": [],
   "source": [
    "NUM_STRATA = 5 "
   ]
  },
  {
   "cell_type": "code",
   "execution_count": 14,
   "id": "3a93aa8a",
   "metadata": {},
   "outputs": [
    {
     "data": {
      "text/plain": [
       "array([2, 3, 5])"
      ]
     },
     "execution_count": 14,
     "metadata": {},
     "output_type": "execute_result"
    }
   ],
   "source": [
    "def get_strata(prob_t_score, num_strata): \n",
    "    \"\"\"\n",
    "    Reports the strata given the probability score \n",
    "    \n",
    "    Strata index starts at 1 \n",
    "    \"\"\"\n",
    "    strata = np.arange(0, 1.0, 1.0/num_strata)\n",
    "    return np.digitize(prob_t_score, strata, right=False)\n",
    "\n",
    "#small toy test case \n",
    "get_strata(np.array([0.3, 0.6, 0.9]), NUM_STRATA)"
   ]
  },
  {
   "cell_type": "code",
   "execution_count": 15,
   "id": "3f3a3971",
   "metadata": {},
   "outputs": [],
   "source": [
    "docid2strata = {}\n",
    "for docid, prob_t_score in zip(docids, prob_t_inference): \n",
    "    strata_inferred = get_strata(prob_t_score, NUM_STRATA)\n",
    "    docid2strata[docid] = (strata_inferred, prob_t_score)"
   ]
  },
  {
   "cell_type": "code",
   "execution_count": 16,
   "id": "61fbfc90",
   "metadata": {},
   "outputs": [],
   "source": [
    "# TODO: Put this in the same matching estimator \n",
    "#docid2strata"
   ]
  },
  {
   "cell_type": "code",
   "execution_count": 17,
   "id": "869ab721",
   "metadata": {},
   "outputs": [],
   "source": [
    "data = []\n",
    "for x in docid2strata.items():\n",
    "    input_row = {}\n",
    "    input_row['paperID'] = x[0]\n",
    "    input_row['strata'] = x[1][0]\n",
    "    input_row['pscore'] = x[1][1]\n",
    "    data.append(input_row)\n",
    "\n",
    "\n",
    "\n",
    "\n",
    "df_paper_strata = df_embeddings.merge(pd.DataFrame(data), left_on='paper_id',right_on='paperID')[['paper_id','title','strata','keywords','pscore','treatment','AVG_rating','conf_year']]"
   ]
  },
  {
   "cell_type": "code",
   "execution_count": 19,
   "id": "410fa4f2",
   "metadata": {},
   "outputs": [
    {
     "data": {
      "text/html": [
       "<div>\n",
       "<style scoped>\n",
       "    .dataframe tbody tr th:only-of-type {\n",
       "        vertical-align: middle;\n",
       "    }\n",
       "\n",
       "    .dataframe tbody tr th {\n",
       "        vertical-align: top;\n",
       "    }\n",
       "\n",
       "    .dataframe thead th {\n",
       "        text-align: right;\n",
       "    }\n",
       "</style>\n",
       "<table border=\"1\" class=\"dataframe\">\n",
       "  <thead>\n",
       "    <tr style=\"text-align: right;\">\n",
       "      <th></th>\n",
       "      <th>paper_id</th>\n",
       "      <th>title</th>\n",
       "      <th>strata</th>\n",
       "      <th>keywords</th>\n",
       "      <th>pscore</th>\n",
       "      <th>treatment</th>\n",
       "      <th>AVG_rating</th>\n",
       "      <th>conf_year</th>\n",
       "      <th>transformed_keywords</th>\n",
       "    </tr>\n",
       "  </thead>\n",
       "  <tbody>\n",
       "    <tr>\n",
       "      <th>0</th>\n",
       "      <td>B1-Hhnslg</td>\n",
       "      <td>Prototypical Networks for Few-shot Learning</td>\n",
       "      <td>3</td>\n",
       "      <td>[\"Deep learning\", \"Transfer Learning\"]</td>\n",
       "      <td>0.514162</td>\n",
       "      <td>1</td>\n",
       "      <td>5.000000</td>\n",
       "      <td>2017</td>\n",
       "      <td>deep_learning transfer_learning</td>\n",
       "    </tr>\n",
       "    <tr>\n",
       "      <th>1</th>\n",
       "      <td>B1-q5Pqxl</td>\n",
       "      <td>Machine Comprehension Using Match-LSTM and Ans...</td>\n",
       "      <td>3</td>\n",
       "      <td>[\"Natural language processing\", \"Deep learning\"]</td>\n",
       "      <td>0.584739</td>\n",
       "      <td>1</td>\n",
       "      <td>6.333333</td>\n",
       "      <td>2017</td>\n",
       "      <td>natural_language_processing deep_learning</td>\n",
       "    </tr>\n",
       "    <tr>\n",
       "      <th>2</th>\n",
       "      <td>B12Js_yRb</td>\n",
       "      <td>Learning to Count Objects in Natural Images fo...</td>\n",
       "      <td>3</td>\n",
       "      <td>[\"visual question answering\", \"vqa\", \"counting\"]</td>\n",
       "      <td>0.477856</td>\n",
       "      <td>0</td>\n",
       "      <td>5.333333</td>\n",
       "      <td>2018</td>\n",
       "      <td>visual_question_answering vqa counting</td>\n",
       "    </tr>\n",
       "    <tr>\n",
       "      <th>3</th>\n",
       "      <td>B13EC5u6W</td>\n",
       "      <td>Thinking like a machine — generating visual ra...</td>\n",
       "      <td>3</td>\n",
       "      <td>[\"interpretability\", \"generative adversarial n...</td>\n",
       "      <td>0.508692</td>\n",
       "      <td>0</td>\n",
       "      <td>6.333333</td>\n",
       "      <td>2018</td>\n",
       "      <td>interpretability generative_adversarial_networks</td>\n",
       "    </tr>\n",
       "    <tr>\n",
       "      <th>4</th>\n",
       "      <td>B13njo1R-</td>\n",
       "      <td>Progressive Reinforcement Learning with Distil...</td>\n",
       "      <td>3</td>\n",
       "      <td>[\"Reinforcement Learning\", \"Distillation\", \"Tr...</td>\n",
       "      <td>0.498078</td>\n",
       "      <td>0</td>\n",
       "      <td>6.333333</td>\n",
       "      <td>2018</td>\n",
       "      <td>reinforcement_learning distillation transfer_...</td>\n",
       "    </tr>\n",
       "    <tr>\n",
       "      <th>...</th>\n",
       "      <td>...</td>\n",
       "      <td>...</td>\n",
       "      <td>...</td>\n",
       "      <td>...</td>\n",
       "      <td>...</td>\n",
       "      <td>...</td>\n",
       "      <td>...</td>\n",
       "      <td>...</td>\n",
       "      <td>...</td>\n",
       "    </tr>\n",
       "    <tr>\n",
       "      <th>1395</th>\n",
       "      <td>rywHCPkAW</td>\n",
       "      <td>Noisy Networks For Exploration</td>\n",
       "      <td>3</td>\n",
       "      <td>[\"Deep Reinforcement Learning\", \"Exploration\",...</td>\n",
       "      <td>0.495754</td>\n",
       "      <td>0</td>\n",
       "      <td>6.000000</td>\n",
       "      <td>2018</td>\n",
       "      <td>deep_reinforcement_learning exploration neura...</td>\n",
       "    </tr>\n",
       "    <tr>\n",
       "      <th>1396</th>\n",
       "      <td>rywUcQogx</td>\n",
       "      <td>Differentiable Canonical Correlation Analysis</td>\n",
       "      <td>3</td>\n",
       "      <td>[\"Multi-modal learning\"]</td>\n",
       "      <td>0.461593</td>\n",
       "      <td>1</td>\n",
       "      <td>3.333333</td>\n",
       "      <td>2017</td>\n",
       "      <td>multi_modal_learning</td>\n",
       "    </tr>\n",
       "    <tr>\n",
       "      <th>1397</th>\n",
       "      <td>ryxB0Rtxx</td>\n",
       "      <td>Identity Matters in Deep Learning</td>\n",
       "      <td>3</td>\n",
       "      <td>[]</td>\n",
       "      <td>0.524018</td>\n",
       "      <td>1</td>\n",
       "      <td>6.333333</td>\n",
       "      <td>2017</td>\n",
       "      <td></td>\n",
       "    </tr>\n",
       "    <tr>\n",
       "      <th>1398</th>\n",
       "      <td>ryykVe-0W</td>\n",
       "      <td>Learning Independent Features with Adversarial...</td>\n",
       "      <td>3</td>\n",
       "      <td>[\"adversarial networks\", \"ica\", \"unsupervised\"...</td>\n",
       "      <td>0.462904</td>\n",
       "      <td>0</td>\n",
       "      <td>4.666667</td>\n",
       "      <td>2018</td>\n",
       "      <td>adversarial_networks ica unsupervised indepen...</td>\n",
       "    </tr>\n",
       "    <tr>\n",
       "      <th>1399</th>\n",
       "      <td>ryzm6BATZ</td>\n",
       "      <td>Image Quality Assessment Techniques Improve Tr...</td>\n",
       "      <td>3</td>\n",
       "      <td>[\"generative adversarial networks\", \"gans\", \"d...</td>\n",
       "      <td>0.451764</td>\n",
       "      <td>0</td>\n",
       "      <td>5.333333</td>\n",
       "      <td>2018</td>\n",
       "      <td>generative_adversarial_networks gans deep_lea...</td>\n",
       "    </tr>\n",
       "  </tbody>\n",
       "</table>\n",
       "<p>1400 rows × 9 columns</p>\n",
       "</div>"
      ],
      "text/plain": [
       "       paper_id                                              title  strata  \\\n",
       "0     B1-Hhnslg        Prototypical Networks for Few-shot Learning       3   \n",
       "1     B1-q5Pqxl  Machine Comprehension Using Match-LSTM and Ans...       3   \n",
       "2     B12Js_yRb  Learning to Count Objects in Natural Images fo...       3   \n",
       "3     B13EC5u6W  Thinking like a machine — generating visual ra...       3   \n",
       "4     B13njo1R-  Progressive Reinforcement Learning with Distil...       3   \n",
       "...         ...                                                ...     ...   \n",
       "1395  rywHCPkAW                     Noisy Networks For Exploration       3   \n",
       "1396  rywUcQogx      Differentiable Canonical Correlation Analysis       3   \n",
       "1397  ryxB0Rtxx                  Identity Matters in Deep Learning       3   \n",
       "1398  ryykVe-0W  Learning Independent Features with Adversarial...       3   \n",
       "1399  ryzm6BATZ  Image Quality Assessment Techniques Improve Tr...       3   \n",
       "\n",
       "                                               keywords    pscore  treatment  \\\n",
       "0                [\"Deep learning\", \"Transfer Learning\"]  0.514162          1   \n",
       "1      [\"Natural language processing\", \"Deep learning\"]  0.584739          1   \n",
       "2      [\"visual question answering\", \"vqa\", \"counting\"]  0.477856          0   \n",
       "3     [\"interpretability\", \"generative adversarial n...  0.508692          0   \n",
       "4     [\"Reinforcement Learning\", \"Distillation\", \"Tr...  0.498078          0   \n",
       "...                                                 ...       ...        ...   \n",
       "1395  [\"Deep Reinforcement Learning\", \"Exploration\",...  0.495754          0   \n",
       "1396                           [\"Multi-modal learning\"]  0.461593          1   \n",
       "1397                                                 []  0.524018          1   \n",
       "1398  [\"adversarial networks\", \"ica\", \"unsupervised\"...  0.462904          0   \n",
       "1399  [\"generative adversarial networks\", \"gans\", \"d...  0.451764          0   \n",
       "\n",
       "      AVG_rating  conf_year                               transformed_keywords  \n",
       "0       5.000000       2017                    deep_learning transfer_learning  \n",
       "1       6.333333       2017          natural_language_processing deep_learning  \n",
       "2       5.333333       2018             visual_question_answering vqa counting  \n",
       "3       6.333333       2018   interpretability generative_adversarial_networks  \n",
       "4       6.333333       2018   reinforcement_learning distillation transfer_...  \n",
       "...          ...        ...                                                ...  \n",
       "1395    6.000000       2018   deep_reinforcement_learning exploration neura...  \n",
       "1396    3.333333       2017                               multi_modal_learning  \n",
       "1397    6.333333       2017                                                     \n",
       "1398    4.666667       2018   adversarial_networks ica unsupervised indepen...  \n",
       "1399    5.333333       2018   generative_adversarial_networks gans deep_lea...  \n",
       "\n",
       "[1400 rows x 9 columns]"
      ]
     },
     "execution_count": 19,
     "metadata": {},
     "output_type": "execute_result"
    }
   ],
   "source": [
    "\n",
    "def strip_char(row):\n",
    "    word_list = ast.literal_eval(row.keywords)\n",
    "    s = ''\n",
    "    for word in word_list:\n",
    "        s += \" \" + word.replace(' ','_').replace('-','_').lower()\n",
    "    return s\n",
    "\n",
    "df_paper_strata['transformed_keywords'] = df_paper_strata.apply(lambda x: strip_char(x), axis = 1)\n",
    "\n",
    "df_paper_strata"
   ]
  },
  {
   "cell_type": "code",
   "execution_count": 20,
   "id": "48e5deeb",
   "metadata": {},
   "outputs": [],
   "source": [
    "df_paper_strata.to_csv('df_paper_strata_results.csv',index = False)"
   ]
  },
  {
   "cell_type": "code",
   "execution_count": 216,
   "id": "52dae016",
   "metadata": {},
   "outputs": [
    {
     "data": {
      "text/plain": [
       "<pandas.core.groupby.generic.DataFrameGroupBy object at 0x1661f48b0>"
      ]
     },
     "execution_count": 216,
     "metadata": {},
     "output_type": "execute_result"
    },
    {
     "data": {
      "image/png": "[encoded data removed]",
      "text/plain": [
       "<Figure size 640x480 with 1 Axes>"
      ]
     },
     "metadata": {},
     "output_type": "display_data"
    }
   ],
   "source": [
    "#checking overlap\n",
    "df_paper_strata.pscore.hist().set_xlim(0,1)\n",
    "\n",
    "df_paper_strata[['treatment','strata']].groupby('strata')"
   ]
  },
  {
   "cell_type": "code",
   "execution_count": 230,
   "id": "cc16524e",
   "metadata": {},
   "outputs": [
    {
     "name": "stdout",
     "output_type": "stream",
     "text": [
      "\\begin{tabular}{llr}\n",
      "\\toprule\n",
      "  &   &  paper\\_id \\\\\n",
      "strata & treatment &           \\\\\n",
      "\\midrule\n",
      "2 & 0 &        45 \\\\\n",
      "  & 1 &         9 \\\\\n",
      "3 & 0 &       851 \\\\\n",
      "  & 1 &       472 \\\\\n",
      "4 & 0 &        14 \\\\\n",
      "  & 1 &         9 \\\\\n",
      "\\bottomrule\n",
      "\\end{tabular}\n",
      "\n"
     ]
    },
    {
     "name": "stderr",
     "output_type": "stream",
     "text": [
      "/var/folders/v9/8whxr3fd1mv_pwkjh0kn920m0000gn/T/ipykernel_6321/2705090609.py:1: FutureWarning: In future versions `DataFrame.to_latex` is expected to utilise the base implementation of `Styler.to_latex` for formatting and rendering. The arguments signature may therefore change. It is recommended instead to use `DataFrame.style.to_latex` which also contains additional functionality.\n",
      "  print(df_paper_strata[['paper_id','strata','treatment']].groupby(['strata','treatment']).count().to_latex())\n"
     ]
    }
   ],
   "source": [
    "print(df_paper_strata[['paper_id','strata','treatment']].groupby(['strata','treatment']).count().to_latex())"
   ]
  },
  {
   "cell_type": "code",
   "execution_count": 219,
   "id": "8fffe47a",
   "metadata": {
    "scrolled": true
   },
   "outputs": [
    {
     "name": "stderr",
     "output_type": "stream",
     "text": [
      "100%|████████████████████| 5000/5000 [00:07<00:00, 631.57it/s]"
     ]
    },
    {
     "name": "stdout",
     "output_type": "stream",
     "text": [
      "Bootstrap Naive ATE:  0.2583618208407602\n",
      "95% confidence interval:  0.11853706465517644 0.3960481392501501\n",
      "range of CI:  -0.27751107459497365\n"
     ]
    },
    {
     "name": "stderr",
     "output_type": "stream",
     "text": [
      "\n"
     ]
    },
    {
     "data": {
      "text/plain": [
       "Text(0.5, 1.0, 'Check of Difference in Mean Distribution')"
      ]
     },
     "execution_count": 219,
     "metadata": {},
     "output_type": "execute_result"
    },
    {
     "data": {
      "image/png": "[encoded data removed]",
      "text/plain": [
       "<Figure size 640x480 with 1 Axes>"
      ]
     },
     "metadata": {},
     "output_type": "display_data"
    }
   ],
   "source": [
    "#2, 3, 4\n",
    "\n",
    "boostrap_SPSM = []\n",
    "for n in tqdm(range(5000)):\n",
    "    sample = df_paper_strata.sample(n=df_paper_strata.shape[0], replace = True ,random_state=n)\n",
    "\n",
    "    strata_2_weight = sample[sample['strata']==2].shape[0]/n_total\n",
    "\n",
    "    strata_3_weight = sample[sample['strata']==3].shape[0]/n_total\n",
    "\n",
    "    strata_4_weight = sample[sample['strata']==4].shape[0]/n_total\n",
    "\n",
    "    strat_2_treated = sample[(sample['strata'] ==2) & (sample['treatment'] ==1)]['AVG_rating'].mean()\n",
    "    strat_2_control = sample[(sample['strata'] ==2) & (sample['treatment'] ==0)]['AVG_rating'].mean()\n",
    "\n",
    "    strat_3_treated = sample[(sample['strata'] ==3) & (sample['treatment'] ==1)]['AVG_rating'].mean()\n",
    "    strat_3_control = sample[(sample['strata'] ==3) & (sample['treatment'] ==0)]['AVG_rating'].mean()\n",
    "\n",
    "    strat_4_treated = sample[(sample['strata'] ==4) & (sample['treatment'] ==1)]['AVG_rating'].mean()\n",
    "    strat_4_control = sample[(sample['strata'] ==4) & (sample['treatment'] ==0)]['AVG_rating'].mean()\n",
    "\n",
    "\n",
    "    ATE = (strat_4_treated - strat_4_control)* strata_4_weight + (strat_3_treated - strat_3_control)* strata_3_weight + (strat_2_treated - strat_2_control)* strata_2_weight\n",
    "    boostrap_SPSM.append(ATE)\n",
    "    \n",
    "SPSM_mean = statistics.mean(boostrap_SPSM)\n",
    "\n",
    "\n",
    "print(\"Bootstrap Naive ATE: \", SPSM_mean)\n",
    "print('95% confidence interval: ',np.quantile(boostrap_SPSM, 0.025),np.quantile(boostrap_SPSM, 0.975) )\n",
    "print('range of CI: ',abs(np.quantile(boostrap_SPSM, 0.025)) -abs(np.quantile(boostrap_SPSM, 0.975)))\n",
    "plt.hist(np.array(boostrap_SPSM), 100)\n",
    "plt.title('Check of Difference in Mean Distribution')"
   ]
  },
  {
   "cell_type": "code",
   "execution_count": 220,
   "id": "08c2d0b9",
   "metadata": {},
   "outputs": [],
   "source": [
    "df_paper_strata.to_csv('../../data/database/outputs/df_SPSM_results.csv', index = False)"
   ]
  },
  {
   "cell_type": "code",
   "execution_count": 261,
   "id": "23a529e2",
   "metadata": {},
   "outputs": [
    {
     "data": {
      "text/plain": [
       "['An Information-Theoretic Framework for Fast and Robust Unsupervised Learning via Neural Population Infomax']"
      ]
     },
     "execution_count": 261,
     "metadata": {},
     "output_type": "execute_result"
    }
   ],
   "source": [
    "df_paper_strata[(df_paper_strata['strata']==3) & \n",
    "                (df_paper_strata['transformed_keywords'].str.contains('deep_learning'))&\n",
    "               (df_paper_strata['treatment']==1)].sample(n=1,random_state = 1).title.tolist()"
   ]
  },
  {
   "cell_type": "code",
   "execution_count": 262,
   "id": "d4862bd7",
   "metadata": {},
   "outputs": [
    {
     "data": {
      "text/plain": [
       "['CAYLEYNETS: SPECTRAL GRAPH CNNS WITH COMPLEX RATIONAL FILTERS',\n",
       " 'When is a Convolutional Filter Easy to Learn?',\n",
       " 'Global Optimality Conditions for Deep Neural Networks',\n",
       " 'A Deep Reinforced Model for Abstractive Summarization',\n",
       " 'Deep Complex Networks',\n",
       " 'Backpropagation through the Void: Optimizing control variates for black-box gradient estimation',\n",
       " 'Adversarial Spheres',\n",
       " 'Hierarchical Representations for Efficient Architecture Search',\n",
       " 'Deep Temporal Clustering: Fully unsupervised learning of time-domain features',\n",
       " 'Sparse Regularized Deep Neural Networks For Efficient Embedded Learning']"
      ]
     },
     "execution_count": 262,
     "metadata": {},
     "output_type": "execute_result"
    }
   ],
   "source": [
    "df_paper_strata[(df_paper_strata['strata']==3) & \n",
    "                (df_paper_strata['transformed_keywords'].str.contains('deep_learning'))&\n",
    "               (df_paper_strata['treatment']==0)].sample(n=10,random_state = 1).title.tolist()"
   ]
  },
  {
   "cell_type": "code",
   "execution_count": 257,
   "id": "35859241",
   "metadata": {},
   "outputs": [
    {
     "data": {
      "text/plain": [
       "311"
      ]
     },
     "execution_count": 257,
     "metadata": {},
     "output_type": "execute_result"
    }
   ],
   "source": [
    "df_paper_strata[#(df_paper_strata['strata']==3) & \n",
    "                (df_paper_strata['transformed_keywords'].str.contains('deep_learning'))&\n",
    "               (df_paper_strata['treatment']==1)].title.count()"
   ]
  },
  {
   "cell_type": "code",
   "execution_count": 258,
   "id": "93c1a989",
   "metadata": {},
   "outputs": [
    {
     "data": {
      "text/plain": [
       "184"
      ]
     },
     "execution_count": 258,
     "metadata": {},
     "output_type": "execute_result"
    }
   ],
   "source": [
    "df_paper_strata[#(df_paper_strata['strata']==3) & \n",
    "                (df_paper_strata['transformed_keywords'].str.contains('deep_learning'))&\n",
    "               (df_paper_strata['treatment']==0)].title.count()"
   ]
  }
 ],
 "metadata": {
  "kernelspec": {
   "display_name": "Python 3 (ipykernel)",
   "language": "python",
   "name": "python3"
  },
  "language_info": {
   "codemirror_mode": {
    "name": "ipython",
    "version": 3
   },
   "file_extension": ".py",
   "mimetype": "text/x-python",
   "name": "python",
   "nbconvert_exporter": "python",
   "pygments_lexer": "ipython3",
   "version": "3.10.4"
  }
 },
 "nbformat": 4,
 "nbformat_minor": 5
}
