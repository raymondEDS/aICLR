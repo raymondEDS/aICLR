{
 "cells": [
  {
   "cell_type": "code",
   "execution_count": 9,
   "id": "5de10f7e",
   "metadata": {},
   "outputs": [],
   "source": [
    "import openreview\n",
    "import pandas as pd\n",
    "import datetime as date\n",
    "import tqdm\n",
    "\n",
    "\n"
   ]
  },
  {
   "cell_type": "code",
   "execution_count": 10,
   "id": "44bf7f2f",
   "metadata": {},
   "outputs": [],
   "source": [
    "client = openreview.Client(baseurl='https://api.openreview.net')\n",
    "\n",
    "str_ICLR_2017_invitiation = 'ICLR.cc/2017/conference/-/submission'\n",
    "str_ICLR_2018_invitiation = 'ICLR.cc/2018/Conference/-/Blind_Submission'\n",
    "str_ICLR_2019_invitiation = 'ICLR.cc/2019/Conference/-/Blind_Submission'"
   ]
  },
  {
   "cell_type": "code",
   "execution_count": 11,
   "id": "1494987e",
   "metadata": {},
   "outputs": [
    {
     "name": "stderr",
     "output_type": "stream",
     "text": [
      "Gathering Responses: 100%|████████████████████████| 1/1 [00:00<00:00,  1.37it/s]\n"
     ]
    }
   ],
   "source": [
    "submission_notes_2017 = client.get_all_notes(invitation = str_ICLR_2017_invitiation)\n",
    "\n",
    "submission_notes_2018 = client.get_all_notes(invitation = str_ICLR_2018_invitiation)\n",
    "\n",
    "submission_notes_2019 = client.get_all_notes(invitation=str_ICLR_2019_invitiation)"
   ]
  },
  {
   "cell_type": "code",
   "execution_count": 12,
   "id": "e425fa07",
   "metadata": {},
   "outputs": [],
   "source": [
    "submission_notes_2017 = [note.__dict__ for note in submission_notes_2017]\n",
    "submission_notes_2018 = [note.__dict__ for note in submission_notes_2018]\n",
    "submission_notes_2019 = [note.__dict__ for note in submission_notes_2019]\n",
    "\n",
    "df_submission_2017 = pd.DataFrame(submission_notes_2017)\n",
    "df_submission_2018 = pd.DataFrame(submission_notes_2018)\n",
    "df_submission_2019 = pd.DataFrame(submission_notes_2019)"
   ]
  },
  {
   "cell_type": "code",
   "execution_count": 13,
   "id": "3c0c426c",
   "metadata": {},
   "outputs": [],
   "source": [
    "df_submission_2017 = pd.concat([df_submission_2017, df_submission_2017.content.apply(pd.Series)],axis = 1)\n",
    "df_submission_2017 = df_submission_2017.drop(columns=['content'])\n",
    "\n",
    "\n",
    "df_submission_2018 = pd.concat([df_submission_2018, df_submission_2018.content.apply(pd.Series)],axis = 1)\n",
    "df_submission_2018 = df_submission_2018.drop(columns=['content'])\n",
    "   \n",
    "\n",
    "    \n",
    "df_submission_2019 = pd.concat([df_submission_2019, df_submission_2019.content.apply(pd.Series)],axis = 1)\n",
    "df_submission_2019 = df_submission_2019.drop(columns=['content'])\n",
    "\n",
    "\n",
    "df_submissions = pd.concat([df_submission_2017,df_submission_2018,df_submission_2019],axis = 0)"
   ]
  },
  {
   "cell_type": "code",
   "execution_count": 14,
   "id": "22a9dd54",
   "metadata": {},
   "outputs": [],
   "source": [
    "df_submissions.to_csv('./data/submissions/df_submissions.csv', index=False)"
   ]
  }
 ],
 "metadata": {
  "kernelspec": {
   "display_name": "Python 3 (ipykernel)",
   "language": "python",
   "name": "python3"
  },
  "language_info": {
   "codemirror_mode": {
    "name": "ipython",
    "version": 3
   },
   "file_extension": ".py",
   "mimetype": "text/x-python",
   "name": "python",
   "nbconvert_exporter": "python",
   "pygments_lexer": "ipython3",
   "version": "3.9.7"
  }
 },
 "nbformat": 4,
 "nbformat_minor": 5
}
