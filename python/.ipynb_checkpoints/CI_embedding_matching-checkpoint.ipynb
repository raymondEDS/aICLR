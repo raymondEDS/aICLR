{
 "cells": [
  {
   "cell_type": "code",
   "execution_count": 6,
   "metadata": {
    "id": "9CELReZL2y4Z"
   },
   "outputs": [],
   "source": [
    "#from transformers import AutoTokenizer, AutoModel\n",
    "import sklearn\n",
    "import pandas as pd\n",
    "import json\n",
    "import numpy as np\n",
    "import ast\n",
    "from tqdm.auto import tqdm\n",
    "import statistics\n",
    "import math\n",
    "\n",
    "np.random.seed(1)"
   ]
  },
  {
   "cell_type": "markdown",
   "metadata": {
    "id": "BoZsqsE5iYTW"
   },
   "source": [
    "# Load existing data"
   ]
  },
  {
   "cell_type": "code",
   "execution_count": 7,
   "metadata": {
    "colab": {
     "base_uri": "https://localhost:8080/",
     "height": 49,
     "referenced_widgets": [
      "87b1da3bcf1f4ab5985077cb3f1f8292",
      "c918140d652b46efaf69b324a8be6a5e",
      "a1a46f7655a14428bf2ff92229cbf106",
      "37f5fc632e22469e9f67685b499c065c",
      "24660dcaad2d4150a880b92978838e9d",
      "14f1bdb9fb4046e9aa2dd6fb0caf7f78",
      "3be0745b62774600a155c743b6ab5f02",
      "62d63ac39ccb46cca08fa17e703ba23d",
      "3b76ff739df54a328e2f79235b2b01fb",
      "494d4fc409a1402a9dec50fd936f98a6",
      "98d0a04700364dbca09df4defa237988"
     ]
    },
    "id": "YmwetAlyknCo",
    "outputId": "f6e38105-6aab-44e4-a751-f548e1506a94"
   },
   "outputs": [
    {
     "name": "stderr",
     "output_type": "stream",
     "text": [
      "100%|██████████████████████████████████████| 2819/2819 [00:03<00:00, 770.71it/s]\n"
     ]
    }
   ],
   "source": [
    "import csv\n",
    "embedding_path = '../data/specter/df_embeddings.csv'\n",
    "submission_path = '../data/database/outputs/df_submission_rating.csv'\n",
    "#embedding_path = '../data/specter/df_embeddings_abstract_only.csv'\n",
    "\n",
    "df_embeddings = pd.read_csv(embedding_path)\n",
    "df_embeddings = df_embeddings.T\n",
    "df_embeddings.columns=df_embeddings.iloc[0]\n",
    "df_embeddings = df_embeddings.iloc[1: , :]\n",
    "#df_embeddings.to_csv('df_embeddings.csv', index = False)\n",
    "\n",
    "tqdm.pandas()\n",
    "def get_numpy (row):\n",
    "  return ast.literal_eval(row.embedding)\n",
    "\n",
    "df_embeddings['embedding'] = df_embeddings.progress_apply(lambda x: get_numpy(x), axis =1)"
   ]
  },
  {
   "cell_type": "code",
   "execution_count": 8,
   "metadata": {
    "id": "hK_pw_OPCNyz"
   },
   "outputs": [
    {
     "data": {
      "text/html": [
       "<div>\n",
       "<style scoped>\n",
       "    .dataframe tbody tr th:only-of-type {\n",
       "        vertical-align: middle;\n",
       "    }\n",
       "\n",
       "    .dataframe tbody tr th {\n",
       "        vertical-align: top;\n",
       "    }\n",
       "\n",
       "    .dataframe thead th {\n",
       "        text-align: right;\n",
       "    }\n",
       "</style>\n",
       "<table border=\"1\" class=\"dataframe\">\n",
       "  <thead>\n",
       "    <tr style=\"text-align: right;\">\n",
       "      <th></th>\n",
       "      <th>id</th>\n",
       "      <th>title</th>\n",
       "      <th>conf_year</th>\n",
       "      <th>keywords</th>\n",
       "      <th>AVG_rating</th>\n",
       "    </tr>\n",
       "  </thead>\n",
       "  <tbody>\n",
       "    <tr>\n",
       "      <th>0</th>\n",
       "      <td>B1-Hhnslg</td>\n",
       "      <td>Prototypical Networks for Few-shot Learning</td>\n",
       "      <td>2017</td>\n",
       "      <td>[\"Deep learning\", \"Transfer Learning\"]</td>\n",
       "      <td>5.000000</td>\n",
       "    </tr>\n",
       "    <tr>\n",
       "      <th>1</th>\n",
       "      <td>B1-q5Pqxl</td>\n",
       "      <td>Machine Comprehension Using Match-LSTM and Ans...</td>\n",
       "      <td>2017</td>\n",
       "      <td>[\"Natural language processing\", \"Deep learning\"]</td>\n",
       "      <td>6.333333</td>\n",
       "    </tr>\n",
       "    <tr>\n",
       "      <th>2</th>\n",
       "      <td>B12Js_yRb</td>\n",
       "      <td>Learning to Count Objects in Natural Images fo...</td>\n",
       "      <td>2018</td>\n",
       "      <td>[\"visual question answering\", \"vqa\", \"counting\"]</td>\n",
       "      <td>5.333333</td>\n",
       "    </tr>\n",
       "    <tr>\n",
       "      <th>3</th>\n",
       "      <td>B13EC5u6W</td>\n",
       "      <td>Thinking like a machine — generating visual ra...</td>\n",
       "      <td>2018</td>\n",
       "      <td>[\"interpretability\", \"generative adversarial n...</td>\n",
       "      <td>6.333333</td>\n",
       "    </tr>\n",
       "    <tr>\n",
       "      <th>4</th>\n",
       "      <td>B13njo1R-</td>\n",
       "      <td>Progressive Reinforcement Learning with Distil...</td>\n",
       "      <td>2018</td>\n",
       "      <td>[\"Reinforcement Learning\", \"Distillation\", \"Tr...</td>\n",
       "      <td>6.333333</td>\n",
       "    </tr>\n",
       "  </tbody>\n",
       "</table>\n",
       "</div>"
      ],
      "text/plain": [
       "          id                                              title  conf_year  \\\n",
       "0  B1-Hhnslg        Prototypical Networks for Few-shot Learning       2017   \n",
       "1  B1-q5Pqxl  Machine Comprehension Using Match-LSTM and Ans...       2017   \n",
       "2  B12Js_yRb  Learning to Count Objects in Natural Images fo...       2018   \n",
       "3  B13EC5u6W  Thinking like a machine — generating visual ra...       2018   \n",
       "4  B13njo1R-  Progressive Reinforcement Learning with Distil...       2018   \n",
       "\n",
       "                                            keywords  AVG_rating  \n",
       "0             [\"Deep learning\", \"Transfer Learning\"]    5.000000  \n",
       "1   [\"Natural language processing\", \"Deep learning\"]    6.333333  \n",
       "2   [\"visual question answering\", \"vqa\", \"counting\"]    5.333333  \n",
       "3  [\"interpretability\", \"generative adversarial n...    6.333333  \n",
       "4  [\"Reinforcement Learning\", \"Distillation\", \"Tr...    6.333333  "
      ]
     },
     "execution_count": 8,
     "metadata": {},
     "output_type": "execute_result"
    }
   ],
   "source": [
    "df_submissions = pd.read_csv(submission_path)\n",
    "df_submission_labels = df_submissions[['id','title','conf_year','keywords','AVG_rating']]\n",
    "df_submission_labels.head()"
   ]
  },
  {
   "cell_type": "code",
   "execution_count": 9,
   "metadata": {
    "id": "lbbSWj6wmiTW"
   },
   "outputs": [
    {
     "data": {
      "text/plain": [
       "True"
      ]
     },
     "execution_count": 9,
     "metadata": {},
     "output_type": "execute_result"
    }
   ],
   "source": [
    "#break the embeddings into years\n",
    "\n",
    "df_submission_labels[df_submission_labels['conf_year']==2017]\n",
    "\n",
    "df_embeddings_2017 = df_embeddings.merge(df_submission_labels[df_submission_labels['conf_year']==2017], left_on='paper_id',right_on='id')\n",
    "df_embeddings_2018 = df_embeddings.merge(df_submission_labels[df_submission_labels['conf_year']==2018], left_on='paper_id',right_on='id')\n",
    "#df_embeddings_2019 = df_embeddings.merge(df_submission_labels[df_submission_labels['conf_year']==2019], left_on='paper_id',right_on='id')\n",
    "\n",
    "#df_embeddings_2017.shape\n",
    "df_submission_labels[df_submission_labels['conf_year']==2017].shape[0] == df_embeddings_2017.shape[0]\n",
    "#set(df_submission_labels[df_submission_labels['conf_year']==2017].id.tolist()).difference(set(df_embeddings_2017.paper_id.tolist()))\n",
    "#df_submission_labels[df_submission_labels['id']=='BkCPyXm1l']"
   ]
  },
  {
   "cell_type": "markdown",
   "metadata": {
    "id": "2_YaUxKTTCws"
   },
   "source": [
    "# Agglomerative Clustering of Anchor Group"
   ]
  },
  {
   "cell_type": "code",
   "execution_count": 11,
   "metadata": {
    "id": "EQ8-yMbd5y5J"
   },
   "outputs": [
    {
     "data": {
      "text/plain": [
       "(490, 8)"
      ]
     },
     "execution_count": 11,
     "metadata": {},
     "output_type": "execute_result"
    }
   ],
   "source": [
    "#cluster only on the 2017  with cosine distance of 0.1\n",
    "\n",
    "from sklearn.cluster import AgglomerativeClustering\n",
    "x = np.array(df_embeddings_2017.embedding.tolist())\n",
    "clustering = AgglomerativeClustering(n_clusters=None, distance_threshold=0.1, linkage=\"average\", metric = 'cosine').fit(x)\n",
    "\n",
    "df_embeddings_2017['agg_cluster'] = clustering.labels_.tolist()\n",
    "df_embeddings_2017.shape"
   ]
  },
  {
   "cell_type": "code",
   "execution_count": 310,
   "metadata": {
    "id": "x3Ye7jxv8Bge"
   },
   "outputs": [],
   "source": [
    "#testing uncomment if necessary\n",
    "#clustering.labels_\n",
    "#unique_elements, counts_elements = np.unique(clustering.labels_, return_counts=True)\n",
    "#print(\"Frequency of unique values of the said array:\")\n",
    "#print(np.asarray((unique_elements, counts_elements)))"
   ]
  },
  {
   "cell_type": "code",
   "execution_count": 13,
   "metadata": {
    "colab": {
     "base_uri": "https://localhost:8080/"
    },
    "id": "DoA0JR6Gq8N6",
    "outputId": "d3d1d068-56b3-46ed-9bb6-3adb3e48f8f4"
   },
   "outputs": [
    {
     "data": {
      "text/html": [
       "<style>#sk-container-id-1 {color: black;background-color: white;}#sk-container-id-1 pre{padding: 0;}#sk-container-id-1 div.sk-toggleable {background-color: white;}#sk-container-id-1 label.sk-toggleable__label {cursor: pointer;display: block;width: 100%;margin-bottom: 0;padding: 0.3em;box-sizing: border-box;text-align: center;}#sk-container-id-1 label.sk-toggleable__label-arrow:before {content: \"▸\";float: left;margin-right: 0.25em;color: #696969;}#sk-container-id-1 label.sk-toggleable__label-arrow:hover:before {color: black;}#sk-container-id-1 div.sk-estimator:hover label.sk-toggleable__label-arrow:before {color: black;}#sk-container-id-1 div.sk-toggleable__content {max-height: 0;max-width: 0;overflow: hidden;text-align: left;background-color: #f0f8ff;}#sk-container-id-1 div.sk-toggleable__content pre {margin: 0.2em;color: black;border-radius: 0.25em;background-color: #f0f8ff;}#sk-container-id-1 input.sk-toggleable__control:checked~div.sk-toggleable__content {max-height: 200px;max-width: 100%;overflow: auto;}#sk-container-id-1 input.sk-toggleable__control:checked~label.sk-toggleable__label-arrow:before {content: \"▾\";}#sk-container-id-1 div.sk-estimator input.sk-toggleable__control:checked~label.sk-toggleable__label {background-color: #d4ebff;}#sk-container-id-1 div.sk-label input.sk-toggleable__control:checked~label.sk-toggleable__label {background-color: #d4ebff;}#sk-container-id-1 input.sk-hidden--visually {border: 0;clip: rect(1px 1px 1px 1px);clip: rect(1px, 1px, 1px, 1px);height: 1px;margin: -1px;overflow: hidden;padding: 0;position: absolute;width: 1px;}#sk-container-id-1 div.sk-estimator {font-family: monospace;background-color: #f0f8ff;border: 1px dotted black;border-radius: 0.25em;box-sizing: border-box;margin-bottom: 0.5em;}#sk-container-id-1 div.sk-estimator:hover {background-color: #d4ebff;}#sk-container-id-1 div.sk-parallel-item::after {content: \"\";width: 100%;border-bottom: 1px solid gray;flex-grow: 1;}#sk-container-id-1 div.sk-label:hover label.sk-toggleable__label {background-color: #d4ebff;}#sk-container-id-1 div.sk-serial::before {content: \"\";position: absolute;border-left: 1px solid gray;box-sizing: border-box;top: 0;bottom: 0;left: 50%;z-index: 0;}#sk-container-id-1 div.sk-serial {display: flex;flex-direction: column;align-items: center;background-color: white;padding-right: 0.2em;padding-left: 0.2em;position: relative;}#sk-container-id-1 div.sk-item {position: relative;z-index: 1;}#sk-container-id-1 div.sk-parallel {display: flex;align-items: stretch;justify-content: center;background-color: white;position: relative;}#sk-container-id-1 div.sk-item::before, #sk-container-id-1 div.sk-parallel-item::before {content: \"\";position: absolute;border-left: 1px solid gray;box-sizing: border-box;top: 0;bottom: 0;left: 50%;z-index: -1;}#sk-container-id-1 div.sk-parallel-item {display: flex;flex-direction: column;z-index: 1;position: relative;background-color: white;}#sk-container-id-1 div.sk-parallel-item:first-child::after {align-self: flex-end;width: 50%;}#sk-container-id-1 div.sk-parallel-item:last-child::after {align-self: flex-start;width: 50%;}#sk-container-id-1 div.sk-parallel-item:only-child::after {width: 0;}#sk-container-id-1 div.sk-dashed-wrapped {border: 1px dashed gray;margin: 0 0.4em 0.5em 0.4em;box-sizing: border-box;padding-bottom: 0.4em;background-color: white;}#sk-container-id-1 div.sk-label label {font-family: monospace;font-weight: bold;display: inline-block;line-height: 1.2em;}#sk-container-id-1 div.sk-label-container {text-align: center;}#sk-container-id-1 div.sk-container {/* jupyter's `normalize.less` sets `[hidden] { display: none; }` but bootstrap.min.css set `[hidden] { display: none !important; }` so we also need the `!important` here to be able to override the default hidden behavior on the sphinx rendered scikit-learn.org. See: https://github.com/scikit-learn/scikit-learn/issues/21755 */display: inline-block !important;position: relative;}#sk-container-id-1 div.sk-text-repr-fallback {display: none;}</style><div id=\"sk-container-id-1\" class=\"sk-top-container\"><div class=\"sk-text-repr-fallback\"><pre>NearestCentroid()</pre><b>In a Jupyter environment, please rerun this cell to show the HTML representation or trust the notebook. <br />On GitHub, the HTML representation is unable to render, please try loading this page with nbviewer.org.</b></div><div class=\"sk-container\" hidden><div class=\"sk-item\"><div class=\"sk-estimator sk-toggleable\"><input class=\"sk-toggleable__control sk-hidden--visually\" id=\"sk-estimator-id-1\" type=\"checkbox\" checked><label for=\"sk-estimator-id-1\" class=\"sk-toggleable__label sk-toggleable__label-arrow\">NearestCentroid</label><div class=\"sk-toggleable__content\"><pre>NearestCentroid()</pre></div></div></div></div></div>"
      ],
      "text/plain": [
       "NearestCentroid()"
      ]
     },
     "execution_count": 13,
     "metadata": {},
     "output_type": "execute_result"
    }
   ],
   "source": [
    "#anchor group computing cluster centroid\n",
    "from sklearn.neighbors import NearestCentroid\n",
    "x = np.array(df_embeddings_2017.embedding.tolist())\n",
    "y = np.array(df_embeddings_2017.agg_cluster.tolist())\n",
    "clf = NearestCentroid()\n",
    "clf.fit(x, y)\n",
    "#clf.predict()\n",
    "#print(clf.classes_)\n",
    "#print(type((clf.centroids_)[1]))\n",
    "#clf.predict(df_embeddings_2017[df_embeddings_2017['agg_cluster']==425].embedding.tolist())\n",
    "#df_embeddings_2017[df_embeddings_2017['agg_cluster']==425] = clf.predict(x).tolist()\n",
    "#df_embeddings_2017"
   ]
  },
  {
   "cell_type": "markdown",
   "metadata": {
    "id": "-liCmQs7eqdu"
   },
   "source": [
    "# Variable Ratio Matching with Agg Cluster and mimizing cosine distance"
   ]
  },
  {
   "cell_type": "code",
   "execution_count": 314,
   "metadata": {},
   "outputs": [
    {
     "data": {
      "text/plain": [
       "True"
      ]
     },
     "execution_count": 314,
     "metadata": {},
     "output_type": "execute_result"
    }
   ],
   "source": [
    "df_embeddings_2018.shape[0] == df_submission_labels[df_submission_labels['conf_year']==2018].shape[0]"
   ]
  },
  {
   "cell_type": "code",
   "execution_count": 15,
   "metadata": {
    "colab": {
     "base_uri": "https://localhost:8080/"
    },
    "id": "JP3nu2TkUs2w",
    "outputId": "dc8bdf69-c6e6-4c39-f668-2db53c21922c"
   },
   "outputs": [],
   "source": [
    "#https://stackoverflow.com/questions/62352209/how-to-get-11-corresponding-matches-using-sklearn-knearest-neighbors\n",
    "#https://towardsdatascience.com/apply-propensity-score-method-in-causal-inference-part-2-k-nearest-neighbor-matching-c0cd2cdb0f74\n",
    "\n",
    "from sklearn.neighbors import NearestNeighbors\n",
    "from sklearn.neighbors import NearestCentroid\n",
    "\n",
    "#setting up KNN for 2018\n",
    "#note radius parameter doesnt do anything unless we use radius_neighbors\n",
    "neigh = NearestNeighbors( n_neighbors=20, metric = 'cosine', radius = 0.3)\n",
    "non_anchor_embedding_2018 = np.array(df_embeddings_2018.embedding.to_list())\n",
    "neigh.fit(non_anchor_embedding_2018)\n",
    "\n",
    "#setting up closest centroid for anchor group 2017\n",
    "anchor_embedding_2017 = np.array(df_embeddings_2017.embedding.tolist())\n",
    "anchor_agg_clusters_2017 = np.array(df_embeddings_2017.agg_cluster.tolist())\n",
    "clf = NearestCentroid()\n",
    "clf.fit(anchor_embedding_2017, anchor_agg_clusters_2017)\n",
    "\n",
    "\n",
    "\n",
    "#dictionary of all the agg clusters and the 20 KNN from 2018\n",
    "dict_agg_cluster_matches ={}\n",
    "tuning_param_cos_dist = 0.3\n",
    "for cluster_id in np.unique(clustering.labels_):\n",
    "    \n",
    "    distances, indices = neigh.kneighbors([clf.centroids_[cluster_id]])\n",
    "    #rng = neigh.radius_neighbors([clf.centroids_[cluster_id]])\n",
    "    #break\n",
    "    df_anchor_embedding = pd.concat([pd.DataFrame(data = distances.T,columns =['cos_dist']),pd.DataFrame(indices.T,columns=['indices'])],axis=1)\n",
    "\n",
    "    #get all the specified cosine distance 2018 papers\n",
    "    #tuple of (dataframe of 2018 matched papers, cosine distances)\n",
    "    dict_agg_cluster_matches[cluster_id] = (\n",
    "        df_embeddings_2018.iloc[df_anchor_embedding[df_anchor_embedding['cos_dist']<= tuning_param_cos_dist].indices.to_list(), :],\n",
    "        df_anchor_embedding[df_anchor_embedding['cos_dist']<= tuning_param_cos_dist].cos_dist.to_list()\n",
    "    )"
   ]
  },
  {
   "cell_type": "code",
   "execution_count": 316,
   "metadata": {},
   "outputs": [],
   "source": [
    "#testing \n",
    "#dict_agg_cluster_matches[0][0].keywords"
   ]
  },
  {
   "cell_type": "code",
   "execution_count": 317,
   "metadata": {
    "id": "iUaLo9QiGlYr"
   },
   "outputs": [
    {
     "name": "stderr",
     "output_type": "stream",
     "text": [
      "100%|████████████████████| 490/490 [00:00<00:00, 18593.79it/s]\n"
     ]
    }
   ],
   "source": [
    "tqdm.pandas()\n",
    "\n",
    "def lambda_get_2018_matches(row):\n",
    "    #get embedding matches from 2018 papers\n",
    "    #returning relevant information\n",
    "    df_clustered_papers = dict_agg_cluster_matches[row.agg_cluster]\n",
    "    \n",
    "    lst_paper_titles = df_clustered_papers[0].title.tolist()\n",
    "    lst_paper_ids = df_clustered_papers[0].paper_id.tolist()\n",
    "    ls_paper_keywords = df_clustered_papers[0].keywords.values.tolist()\n",
    "    ls_cos_distances = df_clustered_papers[1]\n",
    "    \n",
    "    return lst_paper_titles, ls_paper_keywords, lst_paper_ids, ls_cos_distances\n",
    "    \n",
    "    \n",
    "    \n",
    "\n",
    "df_embeddings_2017[['titles_2018','keywords_2018','id_2018','cos_dist_2018']]= df_embeddings_2017.progress_apply(lambda x: lambda_get_2018_matches(x),axis=1, result_type ='expand')\n",
    "\n"
   ]
  },
  {
   "cell_type": "code",
   "execution_count": 318,
   "metadata": {},
   "outputs": [],
   "source": [
    "#testing\n",
    "#df_embeddings_2017[['title','keywords','agg_cluster','titles_2018','cos_dist_2018','keywords_2018']].head()\n",
    "#df_embeddings_2017[['keywords_2018']]"
   ]
  },
  {
   "cell_type": "code",
   "execution_count": 353,
   "metadata": {},
   "outputs": [
    {
     "name": "stdout",
     "output_type": "stream",
     "text": [
      "2017 title:  Gaussian Attention Model and Its Application to Knowledge Base Embedding and Question Answering | [\"Natural language processing\", \"Supervised Learning\", \"Deep learning\"]\n",
      "\n",
      "\n",
      "2018 title: LEARNING TO ORGANIZE KNOWLEDGE WITH N-GRAM MACHINES\n",
      "2018 title: FusionNet: Fusing via Fully-aware Attention with Application to Machine Comprehension\n",
      "2018 title: Adaptive Memory Networks\n",
      "2018 title: Dynamic Integration of Background Knowledge in Neural NLU Systems\n",
      "2018 title: Finding ReMO (Related Memory Object): A Simple neural architecture for Text based Reasoning\n",
      "2018 title: QANet: Combining Local Convolution with Global Self-Attention for Reading Comprehension\n",
      "2018 title: Phase Conductor on Multi-layered Attentions for Machine Comprehension\n",
      "2018 title: Neural Compositional Denotational Semantics for Question Answering\n",
      "2018 title: Ask the Right Questions: Active Question Reformulation with Reinforcement Learning\n",
      "2018 title: DDRprog: A CLEVR Differentiable Dynamic Reasoning Programmer\n"
     ]
    }
   ],
   "source": [
    "#examples\n",
    "first_row = df_embeddings_2017[['title','keywords','agg_cluster','titles_2018','cos_dist_2018','keywords_2018']].iloc[100]\n",
    "\n",
    "print('2017 title: ',first_row.title,'|', first_row.keywords)\n",
    "print('\\n')\n",
    "\n",
    "for title, keywords_2018, cos_dist_2018 in zip(first_row.titles_2018,first_row.keywords_2018, first_row.cos_dist_2018):\n",
    "    print(\"2018 title:\",title)\n",
    "    #print(\"Cosine Distance\", cos_dist_2018)\n",
    "    #print(\"keywords:\",keywords_2018)\n",
    "#print(df_embeddings_2017[['title','keywords','agg_cluster','titles_2018','keywords_2018']].iloc[0].titles_2018)"
   ]
  },
  {
   "cell_type": "code",
   "execution_count": 320,
   "metadata": {},
   "outputs": [],
   "source": [
    "df_cos_dist_sample = pd.concat([df_embeddings_2017[['agg_cluster']],pd.DataFrame(df_embeddings_2017[\"cos_dist_2018\"].to_list())], axis=1)"
   ]
  },
  {
   "cell_type": "code",
   "execution_count": 321,
   "metadata": {},
   "outputs": [],
   "source": [
    "#df_cos_dist_sample"
   ]
  },
  {
   "cell_type": "code",
   "execution_count": 322,
   "metadata": {},
   "outputs": [
    {
     "data": {
      "text/html": [
       "<div>\n",
       "<style scoped>\n",
       "    .dataframe tbody tr th:only-of-type {\n",
       "        vertical-align: middle;\n",
       "    }\n",
       "\n",
       "    .dataframe tbody tr th {\n",
       "        vertical-align: top;\n",
       "    }\n",
       "\n",
       "    .dataframe thead th {\n",
       "        text-align: right;\n",
       "    }\n",
       "</style>\n",
       "<table border=\"1\" class=\"dataframe\">\n",
       "  <thead>\n",
       "    <tr style=\"text-align: right;\">\n",
       "      <th></th>\n",
       "      <th>agg_cluster</th>\n",
       "      <th>0</th>\n",
       "      <th>1</th>\n",
       "      <th>2</th>\n",
       "      <th>3</th>\n",
       "      <th>4</th>\n",
       "      <th>5</th>\n",
       "      <th>6</th>\n",
       "      <th>7</th>\n",
       "      <th>8</th>\n",
       "      <th>...</th>\n",
       "      <th>10</th>\n",
       "      <th>11</th>\n",
       "      <th>12</th>\n",
       "      <th>13</th>\n",
       "      <th>14</th>\n",
       "      <th>15</th>\n",
       "      <th>16</th>\n",
       "      <th>17</th>\n",
       "      <th>18</th>\n",
       "      <th>19</th>\n",
       "    </tr>\n",
       "  </thead>\n",
       "  <tbody>\n",
       "    <tr>\n",
       "      <th>count</th>\n",
       "      <td>490.000000</td>\n",
       "      <td>490.000000</td>\n",
       "      <td>490.000000</td>\n",
       "      <td>490.000000</td>\n",
       "      <td>490.000000</td>\n",
       "      <td>490.000000</td>\n",
       "      <td>490.000000</td>\n",
       "      <td>490.000000</td>\n",
       "      <td>490.000000</td>\n",
       "      <td>490.000000</td>\n",
       "      <td>...</td>\n",
       "      <td>490.000000</td>\n",
       "      <td>490.000000</td>\n",
       "      <td>490.000000</td>\n",
       "      <td>490.000000</td>\n",
       "      <td>490.000000</td>\n",
       "      <td>490.000000</td>\n",
       "      <td>490.000000</td>\n",
       "      <td>490.000000</td>\n",
       "      <td>490.000000</td>\n",
       "      <td>490.000000</td>\n",
       "    </tr>\n",
       "    <tr>\n",
       "      <th>mean</th>\n",
       "      <td>189.961224</td>\n",
       "      <td>0.112797</td>\n",
       "      <td>0.125466</td>\n",
       "      <td>0.132828</td>\n",
       "      <td>0.137586</td>\n",
       "      <td>0.141857</td>\n",
       "      <td>0.145506</td>\n",
       "      <td>0.148315</td>\n",
       "      <td>0.151042</td>\n",
       "      <td>0.153670</td>\n",
       "      <td>...</td>\n",
       "      <td>0.157759</td>\n",
       "      <td>0.159758</td>\n",
       "      <td>0.161507</td>\n",
       "      <td>0.163032</td>\n",
       "      <td>0.164480</td>\n",
       "      <td>0.165890</td>\n",
       "      <td>0.167256</td>\n",
       "      <td>0.168598</td>\n",
       "      <td>0.169753</td>\n",
       "      <td>0.170923</td>\n",
       "    </tr>\n",
       "    <tr>\n",
       "      <th>std</th>\n",
       "      <td>131.368293</td>\n",
       "      <td>0.034734</td>\n",
       "      <td>0.035227</td>\n",
       "      <td>0.036063</td>\n",
       "      <td>0.036754</td>\n",
       "      <td>0.036869</td>\n",
       "      <td>0.037172</td>\n",
       "      <td>0.037485</td>\n",
       "      <td>0.037647</td>\n",
       "      <td>0.037887</td>\n",
       "      <td>...</td>\n",
       "      <td>0.038249</td>\n",
       "      <td>0.038417</td>\n",
       "      <td>0.038709</td>\n",
       "      <td>0.038804</td>\n",
       "      <td>0.038976</td>\n",
       "      <td>0.038893</td>\n",
       "      <td>0.038955</td>\n",
       "      <td>0.039068</td>\n",
       "      <td>0.039040</td>\n",
       "      <td>0.039118</td>\n",
       "    </tr>\n",
       "    <tr>\n",
       "      <th>min</th>\n",
       "      <td>0.000000</td>\n",
       "      <td>0.038121</td>\n",
       "      <td>0.049711</td>\n",
       "      <td>0.054592</td>\n",
       "      <td>0.055911</td>\n",
       "      <td>0.061101</td>\n",
       "      <td>0.062521</td>\n",
       "      <td>0.062599</td>\n",
       "      <td>0.063860</td>\n",
       "      <td>0.069776</td>\n",
       "      <td>...</td>\n",
       "      <td>0.072188</td>\n",
       "      <td>0.073851</td>\n",
       "      <td>0.075682</td>\n",
       "      <td>0.075743</td>\n",
       "      <td>0.076005</td>\n",
       "      <td>0.076906</td>\n",
       "      <td>0.076939</td>\n",
       "      <td>0.077324</td>\n",
       "      <td>0.077493</td>\n",
       "      <td>0.077600</td>\n",
       "    </tr>\n",
       "    <tr>\n",
       "      <th>25%</th>\n",
       "      <td>64.250000</td>\n",
       "      <td>0.087259</td>\n",
       "      <td>0.102650</td>\n",
       "      <td>0.110262</td>\n",
       "      <td>0.114832</td>\n",
       "      <td>0.119049</td>\n",
       "      <td>0.121178</td>\n",
       "      <td>0.124514</td>\n",
       "      <td>0.126905</td>\n",
       "      <td>0.128702</td>\n",
       "      <td>...</td>\n",
       "      <td>0.131970</td>\n",
       "      <td>0.133665</td>\n",
       "      <td>0.136192</td>\n",
       "      <td>0.138393</td>\n",
       "      <td>0.139347</td>\n",
       "      <td>0.141593</td>\n",
       "      <td>0.142684</td>\n",
       "      <td>0.144185</td>\n",
       "      <td>0.145492</td>\n",
       "      <td>0.146679</td>\n",
       "    </tr>\n",
       "    <tr>\n",
       "      <th>50%</th>\n",
       "      <td>182.500000</td>\n",
       "      <td>0.112213</td>\n",
       "      <td>0.124531</td>\n",
       "      <td>0.133535</td>\n",
       "      <td>0.137843</td>\n",
       "      <td>0.141861</td>\n",
       "      <td>0.145457</td>\n",
       "      <td>0.149086</td>\n",
       "      <td>0.151538</td>\n",
       "      <td>0.154097</td>\n",
       "      <td>...</td>\n",
       "      <td>0.157697</td>\n",
       "      <td>0.159799</td>\n",
       "      <td>0.160840</td>\n",
       "      <td>0.162628</td>\n",
       "      <td>0.164608</td>\n",
       "      <td>0.165563</td>\n",
       "      <td>0.167333</td>\n",
       "      <td>0.168483</td>\n",
       "      <td>0.169846</td>\n",
       "      <td>0.170373</td>\n",
       "    </tr>\n",
       "    <tr>\n",
       "      <th>75%</th>\n",
       "      <td>304.750000</td>\n",
       "      <td>0.135876</td>\n",
       "      <td>0.150534</td>\n",
       "      <td>0.157971</td>\n",
       "      <td>0.162225</td>\n",
       "      <td>0.166268</td>\n",
       "      <td>0.170238</td>\n",
       "      <td>0.172465</td>\n",
       "      <td>0.174906</td>\n",
       "      <td>0.179055</td>\n",
       "      <td>...</td>\n",
       "      <td>0.182764</td>\n",
       "      <td>0.184636</td>\n",
       "      <td>0.186976</td>\n",
       "      <td>0.188316</td>\n",
       "      <td>0.190326</td>\n",
       "      <td>0.192260</td>\n",
       "      <td>0.193575</td>\n",
       "      <td>0.195526</td>\n",
       "      <td>0.196554</td>\n",
       "      <td>0.197546</td>\n",
       "    </tr>\n",
       "    <tr>\n",
       "      <th>max</th>\n",
       "      <td>427.000000</td>\n",
       "      <td>0.234251</td>\n",
       "      <td>0.238361</td>\n",
       "      <td>0.250084</td>\n",
       "      <td>0.256839</td>\n",
       "      <td>0.265349</td>\n",
       "      <td>0.265853</td>\n",
       "      <td>0.269440</td>\n",
       "      <td>0.269664</td>\n",
       "      <td>0.273905</td>\n",
       "      <td>...</td>\n",
       "      <td>0.275677</td>\n",
       "      <td>0.276463</td>\n",
       "      <td>0.277301</td>\n",
       "      <td>0.277636</td>\n",
       "      <td>0.280492</td>\n",
       "      <td>0.281375</td>\n",
       "      <td>0.282682</td>\n",
       "      <td>0.288899</td>\n",
       "      <td>0.289486</td>\n",
       "      <td>0.290660</td>\n",
       "    </tr>\n",
       "  </tbody>\n",
       "</table>\n",
       "<p>8 rows × 21 columns</p>\n",
       "</div>"
      ],
      "text/plain": [
       "       agg_cluster           0           1           2           3  \\\n",
       "count   490.000000  490.000000  490.000000  490.000000  490.000000   \n",
       "mean    189.961224    0.112797    0.125466    0.132828    0.137586   \n",
       "std     131.368293    0.034734    0.035227    0.036063    0.036754   \n",
       "min       0.000000    0.038121    0.049711    0.054592    0.055911   \n",
       "25%      64.250000    0.087259    0.102650    0.110262    0.114832   \n",
       "50%     182.500000    0.112213    0.124531    0.133535    0.137843   \n",
       "75%     304.750000    0.135876    0.150534    0.157971    0.162225   \n",
       "max     427.000000    0.234251    0.238361    0.250084    0.256839   \n",
       "\n",
       "                4           5           6           7           8  ...  \\\n",
       "count  490.000000  490.000000  490.000000  490.000000  490.000000  ...   \n",
       "mean     0.141857    0.145506    0.148315    0.151042    0.153670  ...   \n",
       "std      0.036869    0.037172    0.037485    0.037647    0.037887  ...   \n",
       "min      0.061101    0.062521    0.062599    0.063860    0.069776  ...   \n",
       "25%      0.119049    0.121178    0.124514    0.126905    0.128702  ...   \n",
       "50%      0.141861    0.145457    0.149086    0.151538    0.154097  ...   \n",
       "75%      0.166268    0.170238    0.172465    0.174906    0.179055  ...   \n",
       "max      0.265349    0.265853    0.269440    0.269664    0.273905  ...   \n",
       "\n",
       "               10          11          12          13          14          15  \\\n",
       "count  490.000000  490.000000  490.000000  490.000000  490.000000  490.000000   \n",
       "mean     0.157759    0.159758    0.161507    0.163032    0.164480    0.165890   \n",
       "std      0.038249    0.038417    0.038709    0.038804    0.038976    0.038893   \n",
       "min      0.072188    0.073851    0.075682    0.075743    0.076005    0.076906   \n",
       "25%      0.131970    0.133665    0.136192    0.138393    0.139347    0.141593   \n",
       "50%      0.157697    0.159799    0.160840    0.162628    0.164608    0.165563   \n",
       "75%      0.182764    0.184636    0.186976    0.188316    0.190326    0.192260   \n",
       "max      0.275677    0.276463    0.277301    0.277636    0.280492    0.281375   \n",
       "\n",
       "               16          17          18          19  \n",
       "count  490.000000  490.000000  490.000000  490.000000  \n",
       "mean     0.167256    0.168598    0.169753    0.170923  \n",
       "std      0.038955    0.039068    0.039040    0.039118  \n",
       "min      0.076939    0.077324    0.077493    0.077600  \n",
       "25%      0.142684    0.144185    0.145492    0.146679  \n",
       "50%      0.167333    0.168483    0.169846    0.170373  \n",
       "75%      0.193575    0.195526    0.196554    0.197546  \n",
       "max      0.282682    0.288899    0.289486    0.290660  \n",
       "\n",
       "[8 rows x 21 columns]"
      ]
     },
     "execution_count": 322,
     "metadata": {},
     "output_type": "execute_result"
    }
   ],
   "source": [
    "df_cos_dist_sample.describe()"
   ]
  },
  {
   "cell_type": "markdown",
   "metadata": {},
   "source": [
    "# Parameter Tuning (Old Dont use)"
   ]
  },
  {
   "cell_type": "code",
   "execution_count": 258,
   "metadata": {},
   "outputs": [],
   "source": [
    "from scipy.special import gamma, factorial\n",
    "#https://github.com/mick001/Control-Charts-Shiny\n",
    "#https://www.uaar.edu.pk/fs/books/12.pdf check chapter 4.2 for reference\n",
    "def get_c_4(n):\n",
    "    #returns c4 constant    \n",
    "    return math.sqrt(2/(n-1))*gamma(n/2)/gamma((n-1)/2)\n",
    "\n",
    "def get_b4(n):\n",
    "    #returns b4 constant\n",
    "    return 1 + 3 * math.sqrt( 1 - get_c_4(n)**2 ) / get_c_4(n)\n",
    "\n",
    "def get_a3(n):\n",
    "    #returns a3 constant\n",
    "    return 3 / (get_c_4(n) * math.sqrt(n)) \n",
    "\n",
    "def get_x_double_bar(df_spc):\n",
    "    #returns x double bar with variable sample size\n",
    "    x_double_bar = (df_spc.mean(axis=1) * df_spc.count(axis=1)).sum() / (df_spc.count(axis=1).sum())\n",
    "    return x_double_bar\n",
    "\n",
    "def get_s_bar(df_spc):\n",
    "    #return s bar\n",
    "    top = ((df_spc.count(axis =1) - 1) * df_spc.std(axis=1)**2 ).sum()\n",
    "    bottom = df_spc.count(axis=1).sum() - df_spc.shape[0]\n",
    "\n",
    "    return (top/bottom)**(0.5)\n",
    "    \n",
    "    \n",
    "def spc_xbar(df_spc):\n",
    "    #takes in a dataframe from tuning script and outputs number of samples out of control\n",
    "    xdouble_bar = get_x_double_bar(df_spc)\n",
    "    UCL_x_bar = xdouble_bar + df_spc.count(axis = 1).apply(lambda n: get_a3(n)) * get_s_bar(df_spc)\n",
    "    out_control_count = UCL_x_bar < df_spc.mean(axis = 1)\n",
    "    return out_control_count.sum()\n",
    "\n",
    "def spc_sbar(df_spc):\n",
    "    #takes in a dataframe from tuning script and outputs number of samples out of control\n",
    "    return (df_spc.count(axis = 1).apply(lambda n: get_b4(n)) * get_s_bar(df_spc) < df_spc.std(axis = 1)).sum()"
   ]
  },
  {
   "cell_type": "code",
   "execution_count": 259,
   "metadata": {},
   "outputs": [],
   "source": [
    "#tuning charts\n",
    "df_tuning = df_cos_dist_sample.drop(['agg_cluster'],axis = 1)\n",
    "\n",
    "data = []\n",
    "for tuning_param_cos_dist in np.linspace(0,0.3 ,1000):\n",
    "    input_row = {}\n",
    "    match_number = df_tuning[df_tuning<=tuning_param_cos_dist].any(axis=1).sum()\n",
    "    \n",
    "    if match_number == df_tuning.shape[0]:\n",
    "        #input_row['full_sample_flag'] = 1\n",
    "    #else:\n",
    "        #input_row['full_sample_flag'] = 0\n",
    "        \n",
    "        df_spc = df_tuning[df_tuning<=tuning_param_cos_dist]\n",
    "        df_spc['count'] = df_spc.count(axis=1)\n",
    "        df_spc = df_spc[df_spc['count']>=2]\n",
    "        df_spc = df_spc.drop(columns= ['count'])    \n",
    "        if df_spc.shape[0] >=300:\n",
    "            try:\n",
    "                out_control_count_xbar = spc_xbar(df_spc)\n",
    "                out_control_count_sbar = spc_sbar(df_spc)\n",
    "                input_row['cosine_distance'] = tuning_param_cos_dist\n",
    "                input_row['out_control_points_xbar'] = out_control_count_xbar\n",
    "                input_row['out_control_points_sbar'] = out_control_count_sbar\n",
    "                input_row['sample_size'] = df_spc.shape[0]\n",
    "\n",
    "                data.append(input_row)\n",
    "\n",
    "            except:\n",
    "                continue\n",
    "    else:\n",
    "        continue\n",
    "x = pd.DataFrame(data)     "
   ]
  },
  {
   "cell_type": "code",
   "execution_count": 260,
   "metadata": {},
   "outputs": [
    {
     "data": {
      "text/html": [
       "<div>\n",
       "<style scoped>\n",
       "    .dataframe tbody tr th:only-of-type {\n",
       "        vertical-align: middle;\n",
       "    }\n",
       "\n",
       "    .dataframe tbody tr th {\n",
       "        vertical-align: top;\n",
       "    }\n",
       "\n",
       "    .dataframe thead th {\n",
       "        text-align: right;\n",
       "    }\n",
       "</style>\n",
       "<table border=\"1\" class=\"dataframe\">\n",
       "  <thead>\n",
       "    <tr style=\"text-align: right;\">\n",
       "      <th></th>\n",
       "      <th>cosine_distance</th>\n",
       "      <th>out_control_points_xbar</th>\n",
       "      <th>out_control_points_sbar</th>\n",
       "      <th>sample_size</th>\n",
       "    </tr>\n",
       "  </thead>\n",
       "  <tbody>\n",
       "    <tr>\n",
       "      <th>13</th>\n",
       "      <td>0.238438</td>\n",
       "      <td>193</td>\n",
       "      <td>42</td>\n",
       "      <td>490</td>\n",
       "    </tr>\n",
       "    <tr>\n",
       "      <th>14</th>\n",
       "      <td>0.238739</td>\n",
       "      <td>192</td>\n",
       "      <td>42</td>\n",
       "      <td>490</td>\n",
       "    </tr>\n",
       "    <tr>\n",
       "      <th>15</th>\n",
       "      <td>0.239039</td>\n",
       "      <td>192</td>\n",
       "      <td>42</td>\n",
       "      <td>490</td>\n",
       "    </tr>\n",
       "    <tr>\n",
       "      <th>16</th>\n",
       "      <td>0.239339</td>\n",
       "      <td>192</td>\n",
       "      <td>42</td>\n",
       "      <td>490</td>\n",
       "    </tr>\n",
       "    <tr>\n",
       "      <th>17</th>\n",
       "      <td>0.239640</td>\n",
       "      <td>191</td>\n",
       "      <td>43</td>\n",
       "      <td>490</td>\n",
       "    </tr>\n",
       "    <tr>\n",
       "      <th>...</th>\n",
       "      <td>...</td>\n",
       "      <td>...</td>\n",
       "      <td>...</td>\n",
       "      <td>...</td>\n",
       "    </tr>\n",
       "    <tr>\n",
       "      <th>214</th>\n",
       "      <td>0.298799</td>\n",
       "      <td>182</td>\n",
       "      <td>45</td>\n",
       "      <td>490</td>\n",
       "    </tr>\n",
       "    <tr>\n",
       "      <th>215</th>\n",
       "      <td>0.299099</td>\n",
       "      <td>182</td>\n",
       "      <td>45</td>\n",
       "      <td>490</td>\n",
       "    </tr>\n",
       "    <tr>\n",
       "      <th>216</th>\n",
       "      <td>0.299399</td>\n",
       "      <td>182</td>\n",
       "      <td>45</td>\n",
       "      <td>490</td>\n",
       "    </tr>\n",
       "    <tr>\n",
       "      <th>217</th>\n",
       "      <td>0.299700</td>\n",
       "      <td>182</td>\n",
       "      <td>45</td>\n",
       "      <td>490</td>\n",
       "    </tr>\n",
       "    <tr>\n",
       "      <th>218</th>\n",
       "      <td>0.300000</td>\n",
       "      <td>182</td>\n",
       "      <td>45</td>\n",
       "      <td>490</td>\n",
       "    </tr>\n",
       "  </tbody>\n",
       "</table>\n",
       "<p>206 rows × 4 columns</p>\n",
       "</div>"
      ],
      "text/plain": [
       "     cosine_distance  out_control_points_xbar  out_control_points_sbar  \\\n",
       "13          0.238438                      193                       42   \n",
       "14          0.238739                      192                       42   \n",
       "15          0.239039                      192                       42   \n",
       "16          0.239339                      192                       42   \n",
       "17          0.239640                      191                       43   \n",
       "..               ...                      ...                      ...   \n",
       "214         0.298799                      182                       45   \n",
       "215         0.299099                      182                       45   \n",
       "216         0.299399                      182                       45   \n",
       "217         0.299700                      182                       45   \n",
       "218         0.300000                      182                       45   \n",
       "\n",
       "     sample_size  \n",
       "13           490  \n",
       "14           490  \n",
       "15           490  \n",
       "16           490  \n",
       "17           490  \n",
       "..           ...  \n",
       "214          490  \n",
       "215          490  \n",
       "216          490  \n",
       "217          490  \n",
       "218          490  \n",
       "\n",
       "[206 rows x 4 columns]"
      ]
     },
     "execution_count": 260,
     "metadata": {},
     "output_type": "execute_result"
    }
   ],
   "source": [
    "x[x['sample_size']==490]"
   ]
  },
  {
   "cell_type": "code",
   "execution_count": 261,
   "metadata": {},
   "outputs": [
    {
     "data": {
      "text/plain": [
       "<AxesSubplot: title={'center': 'Tuning Sbar'}, xlabel='cosine_distance', ylabel='out_control_points_sbar'>"
      ]
     },
     "execution_count": 261,
     "metadata": {},
     "output_type": "execute_result"
    },
    {
     "data": {
      "image/png": "[encoded data removed]",
      "text/plain": [
       "<Figure size 640x480 with 2 Axes>"
      ]
     },
     "metadata": {},
     "output_type": "display_data"
    }
   ],
   "source": [
    "x.plot.scatter(x = 'cosine_distance', y='out_control_points_sbar', c='sample_size',colormap='seismic', title = \"Tuning Sbar\")"
   ]
  },
  {
   "cell_type": "code",
   "execution_count": 262,
   "metadata": {},
   "outputs": [
    {
     "data": {
      "text/plain": [
       "<AxesSubplot: title={'center': 'Tuning Xbar'}, xlabel='cosine_distance', ylabel='out_control_points_xbar'>"
      ]
     },
     "execution_count": 262,
     "metadata": {},
     "output_type": "execute_result"
    },
    {
     "data": {
      "image/png": "[encoded data removed]",
      "text/plain": [
       "<Figure size 640x480 with 2 Axes>"
      ]
     },
     "metadata": {},
     "output_type": "display_data"
    }
   ],
   "source": [
    "x.plot.scatter(x = 'cosine_distance', y='out_control_points_xbar', c ='sample_size',colormap='Blues', title = \"Tuning Xbar\")"
   ]
  },
  {
   "cell_type": "code",
   "execution_count": 263,
   "metadata": {},
   "outputs": [
    {
     "data": {
      "text/plain": [
       "(0.0, 0.275)"
      ]
     },
     "execution_count": 263,
     "metadata": {},
     "output_type": "execute_result"
    },
    {
     "data": {
      "image/png": "[encoded data removed]",
      "text/plain": [
       "<Figure size 640x480 with 1 Axes>"
      ]
     },
     "metadata": {},
     "output_type": "display_data"
    }
   ],
   "source": [
    "#http://www.bessegato.com.br/UFJF/resources/table_of_control_chart_constants_old.pdf\n",
    "#given the reference table there\n",
    "import matplotlib.pyplot as plt\n",
    "#pd.options.plotting.backend = \"plotly\"\n",
    "\n",
    "tuning_param_cos_dist = 0.3\n",
    "df_spc = df_tuning[df_tuning<=tuning_param_cos_dist]\n",
    "df_spc['count'] = df_spc.count(axis=1)\n",
    "df_spc = df_spc[df_spc['count']>=2]\n",
    "df_spc = df_spc.drop(columns= ['count'])   \n",
    "x_double_bar = get_x_double_bar(df_spc)\n",
    "s_bar = get_s_bar(df_spc)\n",
    "\n",
    "df_spc['X_UCL'] = x_double_bar + df_spc.count(axis = 1).apply(lambda n: get_a3(n)) * get_s_bar(df_spc)\n",
    "df_spc['S_UCL'] = df_spc.count(axis = 1).apply(lambda n: get_b4(n)) * get_s_bar(df_spc)\n",
    "df_spc['mean'] =df_tuning[df_tuning<=tuning_param_cos_dist].mean(axis=1)\n",
    "df_spc['std'] = df_tuning[df_tuning<=tuning_param_cos_dist].std(axis=1)\n",
    "\n",
    "df_spc['x_bar'] = pd.Series([x_double_bar for x in range(len(df_spc.index))])\n",
    "df_spc['s_bar'] = pd.Series([s_bar for x in range(len(df_spc.index))])\n",
    "\n",
    "\n",
    "df_spc[['mean','X_UCL','x_bar']].plot(title='Before X bar Chart').set_ylim(0,0.275)\n",
    "\n",
    "#set_ylim(0,0.3)"
   ]
  },
  {
   "cell_type": "code",
   "execution_count": 264,
   "metadata": {},
   "outputs": [
    {
     "data": {
      "text/plain": [
       "(0.0, 0.05)"
      ]
     },
     "execution_count": 264,
     "metadata": {},
     "output_type": "execute_result"
    },
    {
     "data": {
      "image/png": "[encoded data removed]",
      "text/plain": [
       "<Figure size 640x480 with 1 Axes>"
      ]
     },
     "metadata": {},
     "output_type": "display_data"
    }
   ],
   "source": [
    "df_spc[['std','s_bar','S_UCL']].plot(title='Before S bar Chart').set_ylim(0,0.05)\n"
   ]
  },
  {
   "cell_type": "code",
   "execution_count": 265,
   "metadata": {},
   "outputs": [
    {
     "data": {
      "text/plain": [
       "(0.0, 0.275)"
      ]
     },
     "execution_count": 265,
     "metadata": {},
     "output_type": "execute_result"
    },
    {
     "data": {
      "image/png": "[encoded data removed]",
      "text/plain": [
       "<Figure size 640x480 with 1 Axes>"
      ]
     },
     "metadata": {},
     "output_type": "display_data"
    }
   ],
   "source": [
    "#http://www.bessegato.com.br/UFJF/resources/table_of_control_chart_constants_old.pdf\n",
    "#given the reference table there\n",
    "import matplotlib.pyplot as plt\n",
    "#pd.options.plotting.backend = \"plotly\"\n",
    "\n",
    "tuning_param_cos_dist = 0.238438\n",
    "df_spc = df_tuning[df_tuning<=tuning_param_cos_dist]\n",
    "df_spc['count'] = df_spc.count(axis=1)\n",
    "df_spc = df_spc[df_spc['count']>=2]\n",
    "df_spc = df_spc.drop(columns= ['count'])    \n",
    "x_double_bar = get_x_double_bar(df_spc)\n",
    "s_bar = get_s_bar(df_spc)\n",
    "\n",
    "df_spc1 = df_tuning[df_tuning<=tuning_param_cos_dist]\n",
    "df_spc1['count'] = df_spc1.count(axis=1)\n",
    "df_spc1 = df_spc1[df_spc1['count']>=2]\n",
    "df_spc1 = df_spc1.drop(columns= ['count'])   \n",
    "\n",
    "df_spc['X_UCL'] = x_double_bar + df_spc.count(axis = 1).apply(lambda n: get_a3(n)) * get_s_bar(df_spc)\n",
    "df_spc['S_UCL'] = df_spc.count(axis = 1).apply(lambda n: get_b4(n)) * get_s_bar(df_spc)\n",
    "\n",
    "#Need to make sure that we do not include the count column, x_bar column, and s_bar colun but still main\n",
    "# the average and standard deviation\n",
    "df_spc['mean'] =df_spc1.mean(axis=1)\n",
    "df_spc['std'] = df_spc1.std(axis=1)\n",
    "\n",
    "\n",
    "\n",
    "\n",
    "df_spc=df_spc.reset_index()\n",
    "df_spc['x_bar'] = pd.Series([x_double_bar for x in range(len(df_spc.index))])\n",
    "df_spc['s_bar'] = pd.Series([s_bar for x in range(len(df_spc.index))])\n",
    "\n",
    "\n",
    "df_spc[['mean','X_UCL','x_bar']].plot(title= \"After X bar chart\").set_ylim(0,0.275)"
   ]
  },
  {
   "cell_type": "code",
   "execution_count": 266,
   "metadata": {},
   "outputs": [
    {
     "data": {
      "text/plain": [
       "(0.0, 0.05)"
      ]
     },
     "execution_count": 266,
     "metadata": {},
     "output_type": "execute_result"
    },
    {
     "data": {
      "image/png": "[encoded data removed]",
      "text/plain": [
       "<Figure size 640x480 with 1 Axes>"
      ]
     },
     "metadata": {},
     "output_type": "display_data"
    }
   ],
   "source": [
    "df_spc[['std','s_bar','S_UCL']].plot(title= \"After S bar chart\").set_ylim(0,0.05)\n"
   ]
  },
  {
   "cell_type": "markdown",
   "metadata": {},
   "source": [
    "# Tuning Parameter Min Cosine with Max Samples"
   ]
  },
  {
   "cell_type": "code",
   "execution_count": 323,
   "metadata": {},
   "outputs": [
    {
     "data": {
      "image/png": "[encoded data removed]",
      "text/plain": [
       "<Figure size 640x480 with 2 Axes>"
      ]
     },
     "metadata": {},
     "output_type": "display_data"
    }
   ],
   "source": [
    "#tuning charts\n",
    "#get the max number of samples with the lowest possible cosine distance\n",
    "df_tuning = df_cos_dist_sample.drop(['agg_cluster'],axis = 1)\n",
    "\n",
    "data = []\n",
    "for tuning_param_cos_dist in np.linspace(0,0.3 ,1000):\n",
    "    input_row = {}\n",
    "    sample_number_from_2017 = df_tuning[df_tuning<=tuning_param_cos_dist].any(axis=1).sum()\n",
    "    \n",
    "    input_row['sample_number_2017'] = sample_number_from_2017\n",
    "    input_row['cosine_distance'] = tuning_param_cos_dist\n",
    "    if sample_number_from_2017 == df_tuning.shape[0]:\n",
    "        input_row['full_sample_flag'] = 1\n",
    "    else:\n",
    "        input_row['full_sample_flag'] = 0\n",
    "    data.append(input_row)\n",
    "\n",
    "\n",
    "x = pd.DataFrame(data)   \n",
    "\n",
    "fig = x.plot.scatter(x = 'cosine_distance', \n",
    "               y='sample_number_2017',\n",
    "              c='full_sample_flag',\n",
    "              colormap='bwr').axhline(df_tuning.shape[0], color=\"red\", linestyle=\"dashed\")\n",
    "#fig.update_layout(coloraxis_showscale=False)"
   ]
  },
  {
   "cell_type": "code",
   "execution_count": 324,
   "metadata": {},
   "outputs": [
    {
     "data": {
      "text/html": [
       "<div>\n",
       "<style scoped>\n",
       "    .dataframe tbody tr th:only-of-type {\n",
       "        vertical-align: middle;\n",
       "    }\n",
       "\n",
       "    .dataframe tbody tr th {\n",
       "        vertical-align: top;\n",
       "    }\n",
       "\n",
       "    .dataframe thead th {\n",
       "        text-align: right;\n",
       "    }\n",
       "</style>\n",
       "<table border=\"1\" class=\"dataframe\">\n",
       "  <thead>\n",
       "    <tr style=\"text-align: right;\">\n",
       "      <th></th>\n",
       "      <th>sample_number_2017</th>\n",
       "      <th>cosine_distance</th>\n",
       "      <th>full_sample_flag</th>\n",
       "    </tr>\n",
       "  </thead>\n",
       "  <tbody>\n",
       "    <tr>\n",
       "      <th>781</th>\n",
       "      <td>490</td>\n",
       "      <td>0.234535</td>\n",
       "      <td>1</td>\n",
       "    </tr>\n",
       "    <tr>\n",
       "      <th>782</th>\n",
       "      <td>490</td>\n",
       "      <td>0.234835</td>\n",
       "      <td>1</td>\n",
       "    </tr>\n",
       "    <tr>\n",
       "      <th>783</th>\n",
       "      <td>490</td>\n",
       "      <td>0.235135</td>\n",
       "      <td>1</td>\n",
       "    </tr>\n",
       "    <tr>\n",
       "      <th>784</th>\n",
       "      <td>490</td>\n",
       "      <td>0.235435</td>\n",
       "      <td>1</td>\n",
       "    </tr>\n",
       "    <tr>\n",
       "      <th>785</th>\n",
       "      <td>490</td>\n",
       "      <td>0.235736</td>\n",
       "      <td>1</td>\n",
       "    </tr>\n",
       "    <tr>\n",
       "      <th>...</th>\n",
       "      <td>...</td>\n",
       "      <td>...</td>\n",
       "      <td>...</td>\n",
       "    </tr>\n",
       "    <tr>\n",
       "      <th>995</th>\n",
       "      <td>490</td>\n",
       "      <td>0.298799</td>\n",
       "      <td>1</td>\n",
       "    </tr>\n",
       "    <tr>\n",
       "      <th>996</th>\n",
       "      <td>490</td>\n",
       "      <td>0.299099</td>\n",
       "      <td>1</td>\n",
       "    </tr>\n",
       "    <tr>\n",
       "      <th>997</th>\n",
       "      <td>490</td>\n",
       "      <td>0.299399</td>\n",
       "      <td>1</td>\n",
       "    </tr>\n",
       "    <tr>\n",
       "      <th>998</th>\n",
       "      <td>490</td>\n",
       "      <td>0.299700</td>\n",
       "      <td>1</td>\n",
       "    </tr>\n",
       "    <tr>\n",
       "      <th>999</th>\n",
       "      <td>490</td>\n",
       "      <td>0.300000</td>\n",
       "      <td>1</td>\n",
       "    </tr>\n",
       "  </tbody>\n",
       "</table>\n",
       "<p>219 rows × 3 columns</p>\n",
       "</div>"
      ],
      "text/plain": [
       "     sample_number_2017  cosine_distance  full_sample_flag\n",
       "781                 490         0.234535                 1\n",
       "782                 490         0.234835                 1\n",
       "783                 490         0.235135                 1\n",
       "784                 490         0.235435                 1\n",
       "785                 490         0.235736                 1\n",
       "..                  ...              ...               ...\n",
       "995                 490         0.298799                 1\n",
       "996                 490         0.299099                 1\n",
       "997                 490         0.299399                 1\n",
       "998                 490         0.299700                 1\n",
       "999                 490         0.300000                 1\n",
       "\n",
       "[219 rows x 3 columns]"
      ]
     },
     "execution_count": 324,
     "metadata": {},
     "output_type": "execute_result"
    }
   ],
   "source": [
    "x[x['sample_number_2017']==490]"
   ]
  },
  {
   "cell_type": "markdown",
   "metadata": {},
   "source": [
    "# Potential Outcome Model"
   ]
  },
  {
   "cell_type": "code",
   "execution_count": 16,
   "metadata": {},
   "outputs": [
    {
     "ename": "TypeError",
     "evalue": "NearestNeighbors.__init__() got an unexpected keyword argument 'random_state'",
     "output_type": "error",
     "traceback": [
      "\u001b[0;31m---------------------------------------------------------------------------\u001b[0m",
      "\u001b[0;31mTypeError\u001b[0m                                 Traceback (most recent call last)",
      "Cell \u001b[0;32mIn[16], line 6\u001b[0m\n\u001b[1;32m      2\u001b[0m tuning_param_cos_dist \u001b[38;5;241m=\u001b[39m \u001b[38;5;241m0.234535\u001b[39m\n\u001b[1;32m      3\u001b[0m \u001b[38;5;66;03m#tuning_param_cos_dist = 0.206306\u001b[39;00m\n\u001b[1;32m      4\u001b[0m \u001b[38;5;66;03m#tuning_param_cos_dist = 0.3\u001b[39;00m\n\u001b[0;32m----> 6\u001b[0m neigh \u001b[38;5;241m=\u001b[39m \u001b[43mNearestNeighbors\u001b[49m\u001b[43m(\u001b[49m\u001b[43m \u001b[49m\u001b[43mn_neighbors\u001b[49m\u001b[38;5;241;43m=\u001b[39;49m\u001b[43mtuning_param_knn\u001b[49m\u001b[43m,\u001b[49m\u001b[43m \u001b[49m\u001b[43mmetric\u001b[49m\u001b[43m \u001b[49m\u001b[38;5;241;43m=\u001b[39;49m\u001b[43m \u001b[49m\u001b[38;5;124;43m'\u001b[39;49m\u001b[38;5;124;43mcosine\u001b[39;49m\u001b[38;5;124;43m'\u001b[39;49m\u001b[43m,\u001b[49m\u001b[43m \u001b[49m\u001b[43mradius\u001b[49m\u001b[43m \u001b[49m\u001b[38;5;241;43m=\u001b[39;49m\u001b[43m \u001b[49m\u001b[38;5;241;43m0.3\u001b[39;49m\u001b[43m,\u001b[49m\u001b[43m \u001b[49m\u001b[43mrandom_state\u001b[49m\u001b[43m \u001b[49m\u001b[38;5;241;43m=\u001b[39;49m\u001b[43m \u001b[49m\u001b[38;5;241;43m42\u001b[39;49m\u001b[43m)\u001b[49m\n\u001b[1;32m      7\u001b[0m non_anchor_embedding_2018 \u001b[38;5;241m=\u001b[39m np\u001b[38;5;241m.\u001b[39marray(df_embeddings_2018\u001b[38;5;241m.\u001b[39membedding\u001b[38;5;241m.\u001b[39mto_list())\n\u001b[1;32m      8\u001b[0m neigh\u001b[38;5;241m.\u001b[39mfit(non_anchor_embedding_2018)\n",
      "\u001b[0;31mTypeError\u001b[0m: NearestNeighbors.__init__() got an unexpected keyword argument 'random_state'"
     ]
    }
   ],
   "source": [
    "tuning_param_knn = 10\n",
    "tuning_param_cos_dist = 0.234535\n",
    "#tuning_param_cos_dist = 0.206306\n",
    "#tuning_param_cos_dist = 0.3\n",
    "\n",
    "neigh = NearestNeighbors( n_neighbors=tuning_param_knn, metric = 'cosine', radius = 0.3)\n",
    "non_anchor_embedding_2018 = np.array(df_embeddings_2018.embedding.to_list())\n",
    "neigh.fit(non_anchor_embedding_2018)\n",
    "\n",
    "#setting up closest centroid for anchor group 2017\n",
    "anchor_embedding_2017 = np.array(df_embeddings_2017.embedding.tolist())\n",
    "anchor_agg_clusters_2017 = np.array(df_embeddings_2017.agg_cluster.tolist())\n",
    "clf = NearestCentroid()\n",
    "clf.fit(anchor_embedding_2017, anchor_agg_clusters_2017)\n",
    "\n",
    "\n",
    "#dictionary of all the agg clusters and the 20 KNN from 2018\n",
    "dict_agg_cluster_matches ={}\n",
    "#tuning_param_cos_dist = 0.25\n",
    "for cluster_id in np.unique(clustering.labels_):\n",
    "    \n",
    "    distances, indices = neigh.kneighbors([clf.centroids_[cluster_id]])\n",
    "    df_anchor_embedding = pd.concat([pd.DataFrame(data = distances.T,columns =['cos_dist']),pd.DataFrame(indices.T,columns=['indices'])],axis=1)\n",
    "\n",
    "    #get all the specified cosine distance 2018 papers\n",
    "    #tuple of (dataframe of 2018 matched papers, cosine distances)\n",
    "    dict_agg_cluster_matches[cluster_id] = (\n",
    "        df_embeddings_2018.iloc[df_anchor_embedding[df_anchor_embedding['cos_dist']<= tuning_param_cos_dist].indices.to_list(), :],\n",
    "        df_anchor_embedding[df_anchor_embedding['cos_dist']<= tuning_param_cos_dist].cos_dist.to_list()\n",
    "    )\n",
    "\n",
    "tqdm.pandas()\n",
    "\n",
    "def lambda_get_2018_matches(row):\n",
    "    #get embedding matches from 2018 papers\n",
    "    #returning relevant information\n",
    "    df_clustered_papers = dict_agg_cluster_matches[row.agg_cluster]\n",
    "    \n",
    "    lst_paper_titles = df_clustered_papers[0].title.tolist()\n",
    "    lst_paper_ids = df_clustered_papers[0].paper_id.tolist()\n",
    "    ls_paper_keywords = df_clustered_papers[0].keywords.values.tolist()\n",
    "    ls_cos_distances = df_clustered_papers[1]\n",
    "    \n",
    "    return lst_paper_titles, ls_paper_keywords, lst_paper_ids, ls_cos_distances\n",
    "    \n",
    "    \n",
    "    \n",
    "\n",
    "df_embeddings_2017[['titles_2018','keywords_2018','id_2018','cos_dist_2018']]= df_embeddings_2017.progress_apply(lambda x: lambda_get_2018_matches(x),axis=1, result_type ='expand')\n",
    "\n",
    "def get_num_knn_matches(row):\n",
    "    count = len(row.titles_2018)\n",
    "    return(len(row.titles_2018))\n",
    "\n",
    "df_embeddings_2017['num_knn_matches'] = df_embeddings_2017.progress_apply(lambda x: get_num_knn_matches(x),axis =1)\n",
    "df_embeddings_2017['num_knn_matches'].describe()\n",
    "\n",
    "df_embeddings_2017.to_csv('../data/database/outputs/df_cluster_results.csv',index=False)\n",
    "\n",
    "df_embeddings_2017.shape"
   ]
  },
  {
   "cell_type": "code",
   "execution_count": 326,
   "metadata": {},
   "outputs": [
    {
     "name": "stderr",
     "output_type": "stream",
     "text": [
      "100%|██████████████████████| 490/490 [00:00<00:00, 747.64it/s]"
     ]
    },
    {
     "name": "stdout",
     "output_type": "stream",
     "text": [
      "Passed check\n",
      "SATE: -0.16824505992873337\n"
     ]
    },
    {
     "name": "stderr",
     "output_type": "stream",
     "text": [
      "\n"
     ]
    }
   ],
   "source": [
    "#Matching potential outcome estimator\n",
    "#Keith et al. 2020\n",
    "#https://aclanthology.org/2020.acl-main.474.pdf\n",
    "#equation 7 and 8\n",
    "\n",
    "def lambda_get_match_potential_outcomes(row):\n",
    "    #equation 7 in the paper\n",
    "    paper_ids = row.id_2018\n",
    "    big_m = len(row.id_2018)\n",
    "    if big_m == 0:\n",
    "        return None\n",
    "    ratings = [df_embeddings_2018[df_embeddings_2018['paper_id'] == paper_id].AVG_rating.values[0] for paper_id in paper_ids]\n",
    "    return sum(ratings)/big_m\n",
    "        \n",
    "    \n",
    "\n",
    "df_embeddings_2017['match_ave_rating'] = df_embeddings_2017.progress_apply(lambda row: lambda_get_match_potential_outcomes(row), axis =1)\n",
    "df_embeddings_2017['diff_2018_2017'] = df_embeddings_2017['match_ave_rating'] - df_embeddings_2017['AVG_rating']\n",
    "\n",
    "df_embeddings_2017 = df_embeddings_2017.loc[df_embeddings_2017['match_ave_rating'].notnull(),]\n",
    "\n",
    "#equation 8 in the paper\n",
    "SATE = (df_embeddings_2017['match_ave_rating'] - df_embeddings_2017['AVG_rating']).sum()/df_embeddings_2017.shape[0]\n",
    "#check that the 2 vectors are same size.\n",
    "\n",
    "if df_embeddings_2017['match_ave_rating'].shape[0] == df_embeddings_2017['AVG_rating'].shape[0]:\n",
    "    print('Passed check')\n",
    "else:\n",
    "    print('error')\n",
    "STD = ((df_embeddings_2017['match_ave_rating'] - df_embeddings_2017['AVG_rating'])).std()\n",
    "print('SATE:', SATE)\n",
    "#print('STD:', STD)"
   ]
  },
  {
   "cell_type": "markdown",
   "metadata": {},
   "source": [
    "# Bootstrapping"
   ]
  },
  {
   "cell_type": "code",
   "execution_count": 342,
   "metadata": {},
   "outputs": [
    {
     "name": "stderr",
     "output_type": "stream",
     "text": [
      "100%|███████████████████| 5000/5000 [00:00<00:00, 7600.86it/s]"
     ]
    },
    {
     "name": "stdout",
     "output_type": "stream",
     "text": [
      "Bootstrap ATE:  -0.16975167217363135\n",
      "95% confidence interval:  -0.28714692662779395 -0.0498599165856819\n",
      "range of CI:  0.23728701004211206\n"
     ]
    },
    {
     "name": "stderr",
     "output_type": "stream",
     "text": [
      "\n"
     ]
    }
   ],
   "source": [
    "#https://egrcc.github.io/docs/math/all-of-statistics.pdf chapter 8.2\n",
    "import statistics\n",
    "bootstrap_std = []\n",
    "bootstrap_mean = []\n",
    "for n in tqdm(range(5000)):\n",
    "    sample = df_embeddings_2017.diff_2018_2017.sample(n=df_embeddings_2017.shape[0], replace = True ,random_state=n)\n",
    "    #bootstrap_std.append(sample.std())\n",
    "    bootstrap_mean.append(sample.mean())\n",
    "    \n",
    "\n",
    "mean = statistics.mean(bootstrap_mean)\n",
    "CI_lower_bound_knn = np.quantile(bootstrap_mean, 0.025)\n",
    "CI_upper_bound_knn = np.quantile(bootstrap_mean, 0.975)\n",
    "CI_knn_range = abs(CI_lower_bound_knn) -abs(CI_upper_bound_knn)\n",
    "\n",
    "print(\"Bootstrap ATE: \", mean)\n",
    "\n",
    "#statistics.stdev(bootstrap_mean)\n",
    "\n",
    "print('95% confidence interval: ',CI_lower_bound_knn,CI_upper_bound_knn )\n",
    "print('range of CI: ',CI_knn_range)\n",
    "#plt.hist(np.array(bootstrap_mean), 100)\n",
    "#plt.title('Check of Difference in Mean Distribution')"
   ]
  },
  {
   "cell_type": "code",
   "execution_count": 340,
   "metadata": {},
   "outputs": [
    {
     "name": "stderr",
     "output_type": "stream",
     "text": [
      "100%|███████████████████| 5000/5000 [00:01<00:00, 3822.62it/s]"
     ]
    },
    {
     "name": "stdout",
     "output_type": "stream",
     "text": [
      "Bootstrap Naive ATE:  -0.253831409733124\n",
      "95% confidence interval:  -0.3949246467817896 -0.1135001308215594\n",
      "range of CI:  0.2814245159602302\n"
     ]
    },
    {
     "name": "stderr",
     "output_type": "stream",
     "text": [
      "\n"
     ]
    }
   ],
   "source": [
    "df_embeddings_2018\n",
    "\n",
    "bootstrap_naive_mean = []\n",
    "\n",
    "for n in tqdm(range(5000)):\n",
    "    sample_2017 = df_embeddings_2017.AVG_rating.sample(n=df_embeddings_2017.shape[0], replace = True ,random_state=n)\n",
    "    sample_2018 = df_embeddings_2018.AVG_rating.sample(n=df_embeddings_2018.shape[0], replace = True ,random_state=n)\n",
    "    \n",
    "    sample_diff = sample_2018.mean() - sample_2017.mean()\n",
    "    \n",
    "    bootstrap_naive_mean.append(sample_diff)\n",
    "\n",
    "naive_mean = statistics.mean(bootstrap_naive_mean)\n",
    "\n",
    "\n",
    "print(\"Bootstrap Naive ATE: \", naive_mean)\n",
    "\n",
    "CI_lower_bound_naive = np.quantile(bootstrap_naive_mean, 0.025)\n",
    "CI_upper_bound_naive = np.quantile(bootstrap_naive_mean, 0.975)\n",
    "CI_naive_range = abs(CI_lower_bound_naive) -abs(CI_upper_bound_naive)\n",
    "print('95% confidence interval: ',CI_lower_bound_naive,CI_upper_bound_naive)\n",
    "print('range of CI: ',CI_naive_range)\n",
    "#plt.hist(np.array(bootstrap_naive_mean), 100)\n",
    "#plt.title('Check of Difference in Mean Distribution')"
   ]
  },
  {
   "cell_type": "code",
   "execution_count": 358,
   "metadata": {},
   "outputs": [
    {
     "data": {
      "text/plain": [
       "Ttest_indResult(statistic=63.2667849904569, pvalue=0.0)"
      ]
     },
     "execution_count": 358,
     "metadata": {},
     "output_type": "execute_result"
    }
   ],
   "source": [
    "import scipy\n",
    "t = naive_mean * 1000\n",
    "t2 = mean * 1000\n",
    "scipy.stats.ttest_ind(bootstrap_mean,bootstrap_naive_mean)"
   ]
  },
  {
   "cell_type": "code",
   "execution_count": 359,
   "metadata": {},
   "outputs": [
    {
     "data": {
      "text/plain": [
       "F_onewayResult(statistic=4002.6860830287037, pvalue=0.0)"
      ]
     },
     "execution_count": 359,
     "metadata": {},
     "output_type": "execute_result"
    }
   ],
   "source": [
    "from scipy.stats import f_oneway\n",
    "\n",
    "f_oneway(bootstrap_mean,bootstrap_naive_mean)"
   ]
  },
  {
   "cell_type": "code",
   "execution_count": 343,
   "metadata": {},
   "outputs": [
    {
     "name": "stdout",
     "output_type": "stream",
     "text": [
      "\\begin{tabular}{lrlr}\n",
      "\\toprule\n",
      "{} &     ATE &                  CI &  CI Range \\\\\n",
      "\\midrule\n",
      "KNN Matching & -0.1698 &  (-0.2871, -0.0499) &    0.2373 \\\\\n",
      "Naive        & -0.2538 &  (-0.3949, -0.1135) &    0.2814 \\\\\n",
      "SPSM         & -0.2583 &   (-0.396, -0.1185) &    0.2775 \\\\\n",
      "\\bottomrule\n",
      "\\end{tabular}\n",
      "\n"
     ]
    },
    {
     "name": "stderr",
     "output_type": "stream",
     "text": [
      "/var/folders/v9/8whxr3fd1mv_pwkjh0kn920m0000gn/T/ipykernel_1098/109147186.py:10: FutureWarning: In future versions `DataFrame.to_latex` is expected to utilise the base implementation of `Styler.to_latex` for formatting and rendering. The arguments signature may therefore change. It is recommended instead to use `DataFrame.style.to_latex` which also contains additional functionality.\n",
      "  print(pd.DataFrame(data= data_ATE,index=['KNN Matching','Naive','SPSM']).to_latex())\n"
     ]
    }
   ],
   "source": [
    "#Bootstrap Naive ATE:  0.2583618208407602\n",
    "#95% confidence interval:  0.11853706465517644 0.3960481392501501\n",
    "#range of CI:  -0.27751107459497365\n",
    "\n",
    "data_ATE= {'ATE':[round(mean,4),round(naive_mean, 4),-0.2583],\n",
    "           'CI' :[(round(CI_lower_bound_knn,4), round(CI_upper_bound_knn,4)),(round(CI_lower_bound_naive,4), round(CI_upper_bound_naive,4)),(-0.3960,-0.1185)],\n",
    "           'CI Range': [round(CI_knn_range,4),round(CI_naive_range,4),0.2775]\n",
    "          }\n",
    "\n",
    "print(pd.DataFrame(data= data_ATE,index=['KNN Matching','Naive','SPSM']).to_latex())"
   ]
  },
  {
   "cell_type": "code",
   "execution_count": 279,
   "metadata": {},
   "outputs": [
    {
     "data": {
      "text/plain": [
       "0.12934542228022633"
      ]
     },
     "execution_count": 279,
     "metadata": {},
     "output_type": "execute_result"
    }
   ],
   "source": [
    "#precent tighter the matching method is\n",
    "(abs(-0.368997748044747  - -0.0841677220428494) - abs(-0.2693191964285714 - -0.01711112936366388))/abs(-0.2693191964285714 - -0.01711112936366388)"
   ]
  },
  {
   "cell_type": "markdown",
   "metadata": {},
   "source": [
    "# Check for repeat"
   ]
  },
  {
   "cell_type": "code",
   "execution_count": 491,
   "metadata": {},
   "outputs": [
    {
     "data": {
      "text/plain": [
       "paper_id \n",
       "Hk6kPgZA-    6\n",
       "dtype: int64"
      ]
     },
     "execution_count": 491,
     "metadata": {},
     "output_type": "execute_result"
    }
   ],
   "source": [
    "import itertools\n",
    "#see how often a paper is matched\n",
    "df_embeddings_2017.id_2018.to_list()\n",
    "\n",
    "x = pd.DataFrame(list(itertools.chain.from_iterable(df_embeddings_2017.id_2018.to_list())),columns=['paper_id']).value_counts()\n",
    "\n",
    "x.filter(like='Hk6kPgZA-', axis=0)\n"
   ]
  },
  {
   "cell_type": "code",
   "execution_count": 603,
   "metadata": {},
   "outputs": [
    {
     "data": {
      "text/plain": [
       "count    489.000000\n",
       "mean       9.924335\n",
       "std        0.683830\n",
       "min        2.000000\n",
       "25%       10.000000\n",
       "50%       10.000000\n",
       "75%       10.000000\n",
       "max       10.000000\n",
       "Name: num_knn_matches, dtype: float64"
      ]
     },
     "execution_count": 603,
     "metadata": {},
     "output_type": "execute_result"
    }
   ],
   "source": [
    "df_embeddings_2017['num_knn_matches'].describe()"
   ]
  },
  {
   "cell_type": "markdown",
   "metadata": {},
   "source": [
    "# Checking to see if there is 20 matches on each title"
   ]
  },
  {
   "cell_type": "code",
   "execution_count": 493,
   "metadata": {},
   "outputs": [
    {
     "name": "stderr",
     "output_type": "stream",
     "text": [
      "100%|██████████████████████████| 340/340 [00:00<00:00, 30436.32it/s]\n"
     ]
    },
    {
     "data": {
      "text/html": [
       "<div>\n",
       "<style scoped>\n",
       "    .dataframe tbody tr th:only-of-type {\n",
       "        vertical-align: middle;\n",
       "    }\n",
       "\n",
       "    .dataframe tbody tr th {\n",
       "        vertical-align: top;\n",
       "    }\n",
       "\n",
       "    .dataframe thead th {\n",
       "        text-align: right;\n",
       "    }\n",
       "</style>\n",
       "<table border=\"1\" class=\"dataframe\">\n",
       "  <thead>\n",
       "    <tr style=\"text-align: right;\">\n",
       "      <th></th>\n",
       "      <th>paper_id</th>\n",
       "      <th>embedding</th>\n",
       "      <th>id</th>\n",
       "      <th>title</th>\n",
       "      <th>conf_year</th>\n",
       "      <th>keywords</th>\n",
       "      <th>AVG_rating</th>\n",
       "      <th>agg_cluster</th>\n",
       "      <th>titles_2018</th>\n",
       "      <th>keywords_2018</th>\n",
       "      <th>id_2018</th>\n",
       "      <th>cos_dist_2018</th>\n",
       "      <th>match_ave_rating</th>\n",
       "      <th>diff_2018_2017</th>\n",
       "      <th>num_knn_matches</th>\n",
       "    </tr>\n",
       "  </thead>\n",
       "  <tbody>\n",
       "    <tr>\n",
       "      <th>9</th>\n",
       "      <td>Hkz6aNqle</td>\n",
       "      <td>[0.06979002058506012, 1.0995328426361084, 0.01...</td>\n",
       "      <td>Hkz6aNqle</td>\n",
       "      <td>Deep Error-Correcting Output Codes</td>\n",
       "      <td>2017</td>\n",
       "      <td>[]</td>\n",
       "      <td>3.000000</td>\n",
       "      <td>223</td>\n",
       "      <td>[DNN Representations as Codewords: Manipulatin...</td>\n",
       "      <td>[[\"DNN representation\", \"penalty regularizatio...</td>\n",
       "      <td>[rkQu4Wb0Z]</td>\n",
       "      <td>[0.16541152600671638]</td>\n",
       "      <td>5.000000</td>\n",
       "      <td>2.000000</td>\n",
       "      <td>1</td>\n",
       "    </tr>\n",
       "    <tr>\n",
       "      <th>11</th>\n",
       "      <td>B1hdzd5lg</td>\n",
       "      <td>[-0.4731249511241913, 0.8286098837852478, 0.27...</td>\n",
       "      <td>B1hdzd5lg</td>\n",
       "      <td>Words or Characters? Fine-grained Gating for R...</td>\n",
       "      <td>2017</td>\n",
       "      <td>[\"Natural language processing\", \"Deep learning\"]</td>\n",
       "      <td>6.666667</td>\n",
       "      <td>211</td>\n",
       "      <td>[Multi-Mention Learning for Reading Comprehens...</td>\n",
       "      <td>[[\"reading comprehension\", \"multi-loss\", \"ques...</td>\n",
       "      <td>[HyRnez-RW, HJRV1ZZAW, B14TlG-RW, B1bgpzZAZ, B...</td>\n",
       "      <td>[0.12481209380740332, 0.13436664053345482, 0.1...</td>\n",
       "      <td>5.238095</td>\n",
       "      <td>-1.428571</td>\n",
       "      <td>7</td>\n",
       "    </tr>\n",
       "    <tr>\n",
       "      <th>12</th>\n",
       "      <td>Bks8cPcxe</td>\n",
       "      <td>[-0.47187483310699463, 1.1405317783355713, 0.1...</td>\n",
       "      <td>Bks8cPcxe</td>\n",
       "      <td>DeepDSL: A Compilation-based Domain-Specific L...</td>\n",
       "      <td>2017</td>\n",
       "      <td>[\"Deep learning\", \"Applications\", \"Optimization\"]</td>\n",
       "      <td>7.000000</td>\n",
       "      <td>191</td>\n",
       "      <td>[DLVM: A modern compiler infrastructure for de...</td>\n",
       "      <td>[[\"deep learning\", \"automatic differentiation\"...</td>\n",
       "      <td>[ryG6xZ-RZ, rkTBjG-AZ, HyKZyYlRZ, S1XolQbRW, r...</td>\n",
       "      <td>[0.09927690767401764, 0.160388476227592, 0.160...</td>\n",
       "      <td>6.102564</td>\n",
       "      <td>-0.897436</td>\n",
       "      <td>13</td>\n",
       "    </tr>\n",
       "    <tr>\n",
       "      <th>17</th>\n",
       "      <td>ryTYxh5ll</td>\n",
       "      <td>[-0.8676003813743591, 1.589058756828308, 0.918...</td>\n",
       "      <td>ryTYxh5ll</td>\n",
       "      <td>CONTENT2VEC: SPECIALIZING JOINT REPRESENTATION...</td>\n",
       "      <td>2017</td>\n",
       "      <td>[\"Applications\"]</td>\n",
       "      <td>3.666667</td>\n",
       "      <td>193</td>\n",
       "      <td>[THE EFFECTIVENESS OF A TWO-LAYER NEURAL NETWO...</td>\n",
       "      <td>[[\"Recommender systems\", \"deep learning\", \"per...</td>\n",
       "      <td>[B1lMMx1CW, ryY4RhkCZ]</td>\n",
       "      <td>[0.13772818024214628, 0.16903439383917118]</td>\n",
       "      <td>5.000000</td>\n",
       "      <td>1.333333</td>\n",
       "      <td>2</td>\n",
       "    </tr>\n",
       "    <tr>\n",
       "      <th>18</th>\n",
       "      <td>HJhcg6Fxg</td>\n",
       "      <td>[-0.5211748480796814, 1.4965888261795044, 0.27...</td>\n",
       "      <td>HJhcg6Fxg</td>\n",
       "      <td>Binary Paragraph Vectors</td>\n",
       "      <td>2017</td>\n",
       "      <td>[\"Natural language processing\", \"Transfer Lear...</td>\n",
       "      <td>5.666667</td>\n",
       "      <td>280</td>\n",
       "      <td>[Learning Document Embeddings With CNNs, Zero-...</td>\n",
       "      <td>[[\"unsupervised embedding\", \"convolutional neu...</td>\n",
       "      <td>[ryHM_fbA-, S1XXq6lRW, SkJd_y-Cb, B1e5ef-C-, B...</td>\n",
       "      <td>[0.1312895269671257, 0.1507048058033218, 0.152...</td>\n",
       "      <td>5.561404</td>\n",
       "      <td>-0.105263</td>\n",
       "      <td>19</td>\n",
       "    </tr>\n",
       "    <tr>\n",
       "      <th>...</th>\n",
       "      <td>...</td>\n",
       "      <td>...</td>\n",
       "      <td>...</td>\n",
       "      <td>...</td>\n",
       "      <td>...</td>\n",
       "      <td>...</td>\n",
       "      <td>...</td>\n",
       "      <td>...</td>\n",
       "      <td>...</td>\n",
       "      <td>...</td>\n",
       "      <td>...</td>\n",
       "      <td>...</td>\n",
       "      <td>...</td>\n",
       "      <td>...</td>\n",
       "      <td>...</td>\n",
       "    </tr>\n",
       "    <tr>\n",
       "      <th>468</th>\n",
       "      <td>rJzaDdYxx</td>\n",
       "      <td>[-0.05915672332048416, 0.5122181177139282, -0....</td>\n",
       "      <td>rJzaDdYxx</td>\n",
       "      <td>Gradients of Counterfactuals</td>\n",
       "      <td>2017</td>\n",
       "      <td>[\"Deep learning\", \"Computer vision\", \"Theory\"]</td>\n",
       "      <td>3.666667</td>\n",
       "      <td>124</td>\n",
       "      <td>[INTERPRETATION OF NEURAL NETWORK IS FRAGILE, ...</td>\n",
       "      <td>[[\"Adversarial Attack\", \"Interpretability\", \"S...</td>\n",
       "      <td>[H1xJjlbAZ, rk6H0ZbRb, SJaP_-xAb, SyzKd1bCW, S...</td>\n",
       "      <td>[0.14499503183034523, 0.1526100541006532, 0.16...</td>\n",
       "      <td>5.650000</td>\n",
       "      <td>1.983333</td>\n",
       "      <td>10</td>\n",
       "    </tr>\n",
       "    <tr>\n",
       "      <th>476</th>\n",
       "      <td>Sy7m72Ogg</td>\n",
       "      <td>[0.42904555797576904, 0.10486793518066406, 0.4...</td>\n",
       "      <td>Sy7m72Ogg</td>\n",
       "      <td>An Actor-critic Algorithm for Learning Rate Le...</td>\n",
       "      <td>2017</td>\n",
       "      <td>[\"Deep learning\", \"Reinforcement Learning\"]</td>\n",
       "      <td>4.000000</td>\n",
       "      <td>45</td>\n",
       "      <td>[Guide Actor-Critic for Continuous Control, So...</td>\n",
       "      <td>[[\"Reinforcement learning\", \"actor-critic\", \"c...</td>\n",
       "      <td>[BJk59JZ0b, HJjvxl-Cb, BkUp6GZRW, SyzKd1bCW, S...</td>\n",
       "      <td>[0.08519698934115416, 0.09608976759580856, 0.1...</td>\n",
       "      <td>5.606061</td>\n",
       "      <td>1.606061</td>\n",
       "      <td>11</td>\n",
       "    </tr>\n",
       "    <tr>\n",
       "      <th>477</th>\n",
       "      <td>SJNDWNOlg</td>\n",
       "      <td>[0.24190032482147217, 1.2690263986587524, -0.0...</td>\n",
       "      <td>SJNDWNOlg</td>\n",
       "      <td>What Is the Best Practice for CNNs Applied to ...</td>\n",
       "      <td>2017</td>\n",
       "      <td>[\"Computer vision\", \"Deep learning\"]</td>\n",
       "      <td>4.000000</td>\n",
       "      <td>35</td>\n",
       "      <td>[Simple Fast Convolutional Feature Learning, L...</td>\n",
       "      <td>[[\"Feature Learning\", \"Convolutional Neural Ne...</td>\n",
       "      <td>[SyGT_6yCZ, Skvd-myR-]</td>\n",
       "      <td>[0.15154036738782817, 0.16475049535782305]</td>\n",
       "      <td>3.666667</td>\n",
       "      <td>-0.333333</td>\n",
       "      <td>2</td>\n",
       "    </tr>\n",
       "    <tr>\n",
       "      <th>480</th>\n",
       "      <td>SkXIrV9le</td>\n",
       "      <td>[0.24463148415088654, 1.0909415483474731, 0.10...</td>\n",
       "      <td>SkXIrV9le</td>\n",
       "      <td>Perception Updating Networks: On architectural...</td>\n",
       "      <td>2017</td>\n",
       "      <td>[\"Structured prediction\", \"Unsupervised Learni...</td>\n",
       "      <td>4.000000</td>\n",
       "      <td>100</td>\n",
       "      <td>[Neural Networks for irregularly observed cont...</td>\n",
       "      <td>[[\"Deep Learning\", \"Stochastic Processes\", \"Ti...</td>\n",
       "      <td>[S1fHmlbCW, rk49Mg-CW, Sk7cHb-C-, HJIhGXWCZ, H...</td>\n",
       "      <td>[0.13204550248724745, 0.13273742091289975, 0.1...</td>\n",
       "      <td>5.160714</td>\n",
       "      <td>1.160714</td>\n",
       "      <td>14</td>\n",
       "    </tr>\n",
       "    <tr>\n",
       "      <th>487</th>\n",
       "      <td>B1kJ6H9ex</td>\n",
       "      <td>[-0.283480167388916, 0.08518042415380478, 0.42...</td>\n",
       "      <td>B1kJ6H9ex</td>\n",
       "      <td>Combining policy gradient and Q-learning</td>\n",
       "      <td>2017</td>\n",
       "      <td>[\"Deep learning\", \"Reinforcement Learning\"]</td>\n",
       "      <td>7.666667</td>\n",
       "      <td>30</td>\n",
       "      <td>[Soft Actor-Critic: Off-Policy Maximum Entropy...</td>\n",
       "      <td>[[\"deep reinforcement learning\", \"maximum entr...</td>\n",
       "      <td>[HJjvxl-Cb, HkpRBFxRb, B1nLkl-0Z, SyzKd1bCW, H...</td>\n",
       "      <td>[0.1321371925918764, 0.1368494109655387, 0.140...</td>\n",
       "      <td>5.619048</td>\n",
       "      <td>-2.047619</td>\n",
       "      <td>14</td>\n",
       "    </tr>\n",
       "  </tbody>\n",
       "</table>\n",
       "<p>143 rows × 15 columns</p>\n",
       "</div>"
      ],
      "text/plain": [
       "      paper_id                                          embedding         id  \\\n",
       "9    Hkz6aNqle  [0.06979002058506012, 1.0995328426361084, 0.01...  Hkz6aNqle   \n",
       "11   B1hdzd5lg  [-0.4731249511241913, 0.8286098837852478, 0.27...  B1hdzd5lg   \n",
       "12   Bks8cPcxe  [-0.47187483310699463, 1.1405317783355713, 0.1...  Bks8cPcxe   \n",
       "17   ryTYxh5ll  [-0.8676003813743591, 1.589058756828308, 0.918...  ryTYxh5ll   \n",
       "18   HJhcg6Fxg  [-0.5211748480796814, 1.4965888261795044, 0.27...  HJhcg6Fxg   \n",
       "..         ...                                                ...        ...   \n",
       "468  rJzaDdYxx  [-0.05915672332048416, 0.5122181177139282, -0....  rJzaDdYxx   \n",
       "476  Sy7m72Ogg  [0.42904555797576904, 0.10486793518066406, 0.4...  Sy7m72Ogg   \n",
       "477  SJNDWNOlg  [0.24190032482147217, 1.2690263986587524, -0.0...  SJNDWNOlg   \n",
       "480  SkXIrV9le  [0.24463148415088654, 1.0909415483474731, 0.10...  SkXIrV9le   \n",
       "487  B1kJ6H9ex  [-0.283480167388916, 0.08518042415380478, 0.42...  B1kJ6H9ex   \n",
       "\n",
       "                                                 title  conf_year  \\\n",
       "9                   Deep Error-Correcting Output Codes       2017   \n",
       "11   Words or Characters? Fine-grained Gating for R...       2017   \n",
       "12   DeepDSL: A Compilation-based Domain-Specific L...       2017   \n",
       "17   CONTENT2VEC: SPECIALIZING JOINT REPRESENTATION...       2017   \n",
       "18                            Binary Paragraph Vectors       2017   \n",
       "..                                                 ...        ...   \n",
       "468                       Gradients of Counterfactuals       2017   \n",
       "476  An Actor-critic Algorithm for Learning Rate Le...       2017   \n",
       "477  What Is the Best Practice for CNNs Applied to ...       2017   \n",
       "480  Perception Updating Networks: On architectural...       2017   \n",
       "487           Combining policy gradient and Q-learning       2017   \n",
       "\n",
       "                                              keywords  AVG_rating  \\\n",
       "9                                                   []    3.000000   \n",
       "11    [\"Natural language processing\", \"Deep learning\"]    6.666667   \n",
       "12   [\"Deep learning\", \"Applications\", \"Optimization\"]    7.000000   \n",
       "17                                    [\"Applications\"]    3.666667   \n",
       "18   [\"Natural language processing\", \"Transfer Lear...    5.666667   \n",
       "..                                                 ...         ...   \n",
       "468     [\"Deep learning\", \"Computer vision\", \"Theory\"]    3.666667   \n",
       "476        [\"Deep learning\", \"Reinforcement Learning\"]    4.000000   \n",
       "477               [\"Computer vision\", \"Deep learning\"]    4.000000   \n",
       "480  [\"Structured prediction\", \"Unsupervised Learni...    4.000000   \n",
       "487        [\"Deep learning\", \"Reinforcement Learning\"]    7.666667   \n",
       "\n",
       "     agg_cluster                                        titles_2018  \\\n",
       "9            223  [DNN Representations as Codewords: Manipulatin...   \n",
       "11           211  [Multi-Mention Learning for Reading Comprehens...   \n",
       "12           191  [DLVM: A modern compiler infrastructure for de...   \n",
       "17           193  [THE EFFECTIVENESS OF A TWO-LAYER NEURAL NETWO...   \n",
       "18           280  [Learning Document Embeddings With CNNs, Zero-...   \n",
       "..           ...                                                ...   \n",
       "468          124  [INTERPRETATION OF NEURAL NETWORK IS FRAGILE, ...   \n",
       "476           45  [Guide Actor-Critic for Continuous Control, So...   \n",
       "477           35  [Simple Fast Convolutional Feature Learning, L...   \n",
       "480          100  [Neural Networks for irregularly observed cont...   \n",
       "487           30  [Soft Actor-Critic: Off-Policy Maximum Entropy...   \n",
       "\n",
       "                                         keywords_2018  \\\n",
       "9    [[\"DNN representation\", \"penalty regularizatio...   \n",
       "11   [[\"reading comprehension\", \"multi-loss\", \"ques...   \n",
       "12   [[\"deep learning\", \"automatic differentiation\"...   \n",
       "17   [[\"Recommender systems\", \"deep learning\", \"per...   \n",
       "18   [[\"unsupervised embedding\", \"convolutional neu...   \n",
       "..                                                 ...   \n",
       "468  [[\"Adversarial Attack\", \"Interpretability\", \"S...   \n",
       "476  [[\"Reinforcement learning\", \"actor-critic\", \"c...   \n",
       "477  [[\"Feature Learning\", \"Convolutional Neural Ne...   \n",
       "480  [[\"Deep Learning\", \"Stochastic Processes\", \"Ti...   \n",
       "487  [[\"deep reinforcement learning\", \"maximum entr...   \n",
       "\n",
       "                                               id_2018  \\\n",
       "9                                          [rkQu4Wb0Z]   \n",
       "11   [HyRnez-RW, HJRV1ZZAW, B14TlG-RW, B1bgpzZAZ, B...   \n",
       "12   [ryG6xZ-RZ, rkTBjG-AZ, HyKZyYlRZ, S1XolQbRW, r...   \n",
       "17                              [B1lMMx1CW, ryY4RhkCZ]   \n",
       "18   [ryHM_fbA-, S1XXq6lRW, SkJd_y-Cb, B1e5ef-C-, B...   \n",
       "..                                                 ...   \n",
       "468  [H1xJjlbAZ, rk6H0ZbRb, SJaP_-xAb, SyzKd1bCW, S...   \n",
       "476  [BJk59JZ0b, HJjvxl-Cb, BkUp6GZRW, SyzKd1bCW, S...   \n",
       "477                             [SyGT_6yCZ, Skvd-myR-]   \n",
       "480  [S1fHmlbCW, rk49Mg-CW, Sk7cHb-C-, HJIhGXWCZ, H...   \n",
       "487  [HJjvxl-Cb, HkpRBFxRb, B1nLkl-0Z, SyzKd1bCW, H...   \n",
       "\n",
       "                                         cos_dist_2018  match_ave_rating  \\\n",
       "9                                [0.16541152600671638]          5.000000   \n",
       "11   [0.12481209380740332, 0.13436664053345482, 0.1...          5.238095   \n",
       "12   [0.09927690767401764, 0.160388476227592, 0.160...          6.102564   \n",
       "17          [0.13772818024214628, 0.16903439383917118]          5.000000   \n",
       "18   [0.1312895269671257, 0.1507048058033218, 0.152...          5.561404   \n",
       "..                                                 ...               ...   \n",
       "468  [0.14499503183034523, 0.1526100541006532, 0.16...          5.650000   \n",
       "476  [0.08519698934115416, 0.09608976759580856, 0.1...          5.606061   \n",
       "477         [0.15154036738782817, 0.16475049535782305]          3.666667   \n",
       "480  [0.13204550248724745, 0.13273742091289975, 0.1...          5.160714   \n",
       "487  [0.1321371925918764, 0.1368494109655387, 0.140...          5.619048   \n",
       "\n",
       "     diff_2018_2017  num_knn_matches  \n",
       "9          2.000000                1  \n",
       "11        -1.428571                7  \n",
       "12        -0.897436               13  \n",
       "17         1.333333                2  \n",
       "18        -0.105263               19  \n",
       "..              ...              ...  \n",
       "468        1.983333               10  \n",
       "476        1.606061               11  \n",
       "477       -0.333333                2  \n",
       "480        1.160714               14  \n",
       "487       -2.047619               14  \n",
       "\n",
       "[143 rows x 15 columns]"
      ]
     },
     "execution_count": 493,
     "metadata": {},
     "output_type": "execute_result"
    }
   ],
   "source": [
    "def get_num_knn_matches(row):\n",
    "    count = len(row.titles_2018)\n",
    "    return(len(row.titles_2018))\n",
    "\n",
    "df_embeddings_2017['num_knn_matches'] = df_embeddings_2017.progress_apply(lambda x: get_num_knn_matches(x),axis =1)\n",
    "\n",
    "df_embeddings_2017[df_embeddings_2017['num_knn_matches']<20]"
   ]
  },
  {
   "cell_type": "markdown",
   "metadata": {},
   "source": [
    "# Save CSVs"
   ]
  },
  {
   "cell_type": "code",
   "execution_count": 494,
   "metadata": {},
   "outputs": [],
   "source": [
    "df_embeddings_2017.to_csv('../data/database/outputs/df_cluster_results.csv',index=False)"
   ]
  },
  {
   "cell_type": "code",
   "execution_count": null,
   "metadata": {},
   "outputs": [],
   "source": []
  }
 ],
 "metadata": {
  "accelerator": "GPU",
  "colab": {
   "provenance": []
  },
  "gpuClass": "standard",
  "kernelspec": {
   "display_name": "Python 3 (ipykernel)",
   "language": "python",
   "name": "python3"
  },
  "language_info": {
   "codemirror_mode": {
    "name": "ipython",
    "version": 3
   },
   "file_extension": ".py",
   "mimetype": "text/x-python",
   "name": "python",
   "nbconvert_exporter": "python",
   "pygments_lexer": "ipython3",
   "version": "3.10.4"
  },
  "widgets": {
   "application/vnd.jupyter.widget-state+json": {
    "14f1bdb9fb4046e9aa2dd6fb0caf7f78": {
     "model_module": "@jupyter-widgets/base",
     "model_module_version": "1.2.0",
     "model_name": "LayoutModel",
     "state": {
      "_model_module": "@jupyter-widgets/base",
      "_model_module_version": "1.2.0",
      "_model_name": "LayoutModel",
      "_view_count": null,
      "_view_module": "@jupyter-widgets/base",
      "_view_module_version": "1.2.0",
      "_view_name": "LayoutView",
      "align_content": null,
      "align_items": null,
      "align_self": null,
      "border": null,
      "bottom": null,
      "display": null,
      "flex": null,
      "flex_flow": null,
      "grid_area": null,
      "grid_auto_columns": null,
      "grid_auto_flow": null,
      "grid_auto_rows": null,
      "grid_column": null,
      "grid_gap": null,
      "grid_row": null,
      "grid_template_areas": null,
      "grid_template_columns": null,
      "grid_template_rows": null,
      "height": null,
      "justify_content": null,
      "justify_items": null,
      "left": null,
      "margin": null,
      "max_height": null,
      "max_width": null,
      "min_height": null,
      "min_width": null,
      "object_fit": null,
      "object_position": null,
      "order": null,
      "overflow": null,
      "overflow_x": null,
      "overflow_y": null,
      "padding": null,
      "right": null,
      "top": null,
      "visibility": null,
      "width": null
     }
    },
    "24660dcaad2d4150a880b92978838e9d": {
     "model_module": "@jupyter-widgets/base",
     "model_module_version": "1.2.0",
     "model_name": "LayoutModel",
     "state": {
      "_model_module": "@jupyter-widgets/base",
      "_model_module_version": "1.2.0",
      "_model_name": "LayoutModel",
      "_view_count": null,
      "_view_module": "@jupyter-widgets/base",
      "_view_module_version": "1.2.0",
      "_view_name": "LayoutView",
      "align_content": null,
      "align_items": null,
      "align_self": null,
      "border": null,
      "bottom": null,
      "display": null,
      "flex": null,
      "flex_flow": null,
      "grid_area": null,
      "grid_auto_columns": null,
      "grid_auto_flow": null,
      "grid_auto_rows": null,
      "grid_column": null,
      "grid_gap": null,
      "grid_row": null,
      "grid_template_areas": null,
      "grid_template_columns": null,
      "grid_template_rows": null,
      "height": null,
      "justify_content": null,
      "justify_items": null,
      "left": null,
      "margin": null,
      "max_height": null,
      "max_width": null,
      "min_height": null,
      "min_width": null,
      "object_fit": null,
      "object_position": null,
      "order": null,
      "overflow": null,
      "overflow_x": null,
      "overflow_y": null,
      "padding": null,
      "right": null,
      "top": null,
      "visibility": null,
      "width": null
     }
    },
    "37f5fc632e22469e9f67685b499c065c": {
     "model_module": "@jupyter-widgets/controls",
     "model_module_version": "1.5.0",
     "model_name": "HTMLModel",
     "state": {
      "_dom_classes": [],
      "_model_module": "@jupyter-widgets/controls",
      "_model_module_version": "1.5.0",
      "_model_name": "HTMLModel",
      "_view_count": null,
      "_view_module": "@jupyter-widgets/controls",
      "_view_module_version": "1.5.0",
      "_view_name": "HTMLView",
      "description": "",
      "description_tooltip": null,
      "layout": "IPY_MODEL_494d4fc409a1402a9dec50fd936f98a6",
      "placeholder": "​",
      "style": "IPY_MODEL_98d0a04700364dbca09df4defa237988",
      "value": " 2819/2819 [00:07&lt;00:00, 472.09it/s]"
     }
    },
    "3b76ff739df54a328e2f79235b2b01fb": {
     "model_module": "@jupyter-widgets/controls",
     "model_module_version": "1.5.0",
     "model_name": "ProgressStyleModel",
     "state": {
      "_model_module": "@jupyter-widgets/controls",
      "_model_module_version": "1.5.0",
      "_model_name": "ProgressStyleModel",
      "_view_count": null,
      "_view_module": "@jupyter-widgets/base",
      "_view_module_version": "1.2.0",
      "_view_name": "StyleView",
      "bar_color": null,
      "description_width": ""
     }
    },
    "3be0745b62774600a155c743b6ab5f02": {
     "model_module": "@jupyter-widgets/controls",
     "model_module_version": "1.5.0",
     "model_name": "DescriptionStyleModel",
     "state": {
      "_model_module": "@jupyter-widgets/controls",
      "_model_module_version": "1.5.0",
      "_model_name": "DescriptionStyleModel",
      "_view_count": null,
      "_view_module": "@jupyter-widgets/base",
      "_view_module_version": "1.2.0",
      "_view_name": "StyleView",
      "description_width": ""
     }
    },
    "494d4fc409a1402a9dec50fd936f98a6": {
     "model_module": "@jupyter-widgets/base",
     "model_module_version": "1.2.0",
     "model_name": "LayoutModel",
     "state": {
      "_model_module": "@jupyter-widgets/base",
      "_model_module_version": "1.2.0",
      "_model_name": "LayoutModel",
      "_view_count": null,
      "_view_module": "@jupyter-widgets/base",
      "_view_module_version": "1.2.0",
      "_view_name": "LayoutView",
      "align_content": null,
      "align_items": null,
      "align_self": null,
      "border": null,
      "bottom": null,
      "display": null,
      "flex": null,
      "flex_flow": null,
      "grid_area": null,
      "grid_auto_columns": null,
      "grid_auto_flow": null,
      "grid_auto_rows": null,
      "grid_column": null,
      "grid_gap": null,
      "grid_row": null,
      "grid_template_areas": null,
      "grid_template_columns": null,
      "grid_template_rows": null,
      "height": null,
      "justify_content": null,
      "justify_items": null,
      "left": null,
      "margin": null,
      "max_height": null,
      "max_width": null,
      "min_height": null,
      "min_width": null,
      "object_fit": null,
      "object_position": null,
      "order": null,
      "overflow": null,
      "overflow_x": null,
      "overflow_y": null,
      "padding": null,
      "right": null,
      "top": null,
      "visibility": null,
      "width": null
     }
    },
    "62d63ac39ccb46cca08fa17e703ba23d": {
     "model_module": "@jupyter-widgets/base",
     "model_module_version": "1.2.0",
     "model_name": "LayoutModel",
     "state": {
      "_model_module": "@jupyter-widgets/base",
      "_model_module_version": "1.2.0",
      "_model_name": "LayoutModel",
      "_view_count": null,
      "_view_module": "@jupyter-widgets/base",
      "_view_module_version": "1.2.0",
      "_view_name": "LayoutView",
      "align_content": null,
      "align_items": null,
      "align_self": null,
      "border": null,
      "bottom": null,
      "display": null,
      "flex": null,
      "flex_flow": null,
      "grid_area": null,
      "grid_auto_columns": null,
      "grid_auto_flow": null,
      "grid_auto_rows": null,
      "grid_column": null,
      "grid_gap": null,
      "grid_row": null,
      "grid_template_areas": null,
      "grid_template_columns": null,
      "grid_template_rows": null,
      "height": null,
      "justify_content": null,
      "justify_items": null,
      "left": null,
      "margin": null,
      "max_height": null,
      "max_width": null,
      "min_height": null,
      "min_width": null,
      "object_fit": null,
      "object_position": null,
      "order": null,
      "overflow": null,
      "overflow_x": null,
      "overflow_y": null,
      "padding": null,
      "right": null,
      "top": null,
      "visibility": null,
      "width": null
     }
    },
    "87b1da3bcf1f4ab5985077cb3f1f8292": {
     "model_module": "@jupyter-widgets/controls",
     "model_module_version": "1.5.0",
     "model_name": "HBoxModel",
     "state": {
      "_dom_classes": [],
      "_model_module": "@jupyter-widgets/controls",
      "_model_module_version": "1.5.0",
      "_model_name": "HBoxModel",
      "_view_count": null,
      "_view_module": "@jupyter-widgets/controls",
      "_view_module_version": "1.5.0",
      "_view_name": "HBoxView",
      "box_style": "",
      "children": [
       "IPY_MODEL_c918140d652b46efaf69b324a8be6a5e",
       "IPY_MODEL_a1a46f7655a14428bf2ff92229cbf106",
       "IPY_MODEL_37f5fc632e22469e9f67685b499c065c"
      ],
      "layout": "IPY_MODEL_24660dcaad2d4150a880b92978838e9d"
     }
    },
    "98d0a04700364dbca09df4defa237988": {
     "model_module": "@jupyter-widgets/controls",
     "model_module_version": "1.5.0",
     "model_name": "DescriptionStyleModel",
     "state": {
      "_model_module": "@jupyter-widgets/controls",
      "_model_module_version": "1.5.0",
      "_model_name": "DescriptionStyleModel",
      "_view_count": null,
      "_view_module": "@jupyter-widgets/base",
      "_view_module_version": "1.2.0",
      "_view_name": "StyleView",
      "description_width": ""
     }
    },
    "a1a46f7655a14428bf2ff92229cbf106": {
     "model_module": "@jupyter-widgets/controls",
     "model_module_version": "1.5.0",
     "model_name": "FloatProgressModel",
     "state": {
      "_dom_classes": [],
      "_model_module": "@jupyter-widgets/controls",
      "_model_module_version": "1.5.0",
      "_model_name": "FloatProgressModel",
      "_view_count": null,
      "_view_module": "@jupyter-widgets/controls",
      "_view_module_version": "1.5.0",
      "_view_name": "ProgressView",
      "bar_style": "success",
      "description": "",
      "description_tooltip": null,
      "layout": "IPY_MODEL_62d63ac39ccb46cca08fa17e703ba23d",
      "max": 2819,
      "min": 0,
      "orientation": "horizontal",
      "style": "IPY_MODEL_3b76ff739df54a328e2f79235b2b01fb",
      "value": 2819
     }
    },
    "c918140d652b46efaf69b324a8be6a5e": {
     "model_module": "@jupyter-widgets/controls",
     "model_module_version": "1.5.0",
     "model_name": "HTMLModel",
     "state": {
      "_dom_classes": [],
      "_model_module": "@jupyter-widgets/controls",
      "_model_module_version": "1.5.0",
      "_model_name": "HTMLModel",
      "_view_count": null,
      "_view_module": "@jupyter-widgets/controls",
      "_view_module_version": "1.5.0",
      "_view_name": "HTMLView",
      "description": "",
      "description_tooltip": null,
      "layout": "IPY_MODEL_14f1bdb9fb4046e9aa2dd6fb0caf7f78",
      "placeholder": "​",
      "style": "IPY_MODEL_3be0745b62774600a155c743b6ab5f02",
      "value": "100%"
     }
    }
   }
  }
 },
 "nbformat": 4,
 "nbformat_minor": 1
}
