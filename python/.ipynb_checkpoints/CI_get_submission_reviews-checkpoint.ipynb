{
 "cells": [
  {
   "cell_type": "code",
   "execution_count": 3,
   "id": "13d0d46f",
   "metadata": {},
   "outputs": [],
   "source": [
    "import pandas as pd\n",
    "import numpy as np\n",
    "import datetime as date\n",
    "import os\n",
    "import tqdm\n",
    "import ast\n",
    "import json\n",
    "import sqlite3"
   ]
  },
  {
   "cell_type": "code",
   "execution_count": 4,
   "id": "83ce7a3a",
   "metadata": {},
   "outputs": [],
   "source": [
    "con = sqlite3.connect(\"../data/database/ICLR.db\")"
   ]
  },
  {
   "cell_type": "code",
   "execution_count": 12,
   "id": "23d46f9c",
   "metadata": {},
   "outputs": [],
   "source": [
    "query = '''\n",
    "SELECT\n",
    "    AVG(CAST(reviews.rating_int as demcial)) AS AVG_rating,\n",
    "    COUNT(reviews.id) as NUM_Reviews,\n",
    "    submissions.*\n",
    "    \n",
    "FROM reviews\n",
    "JOIN submissions ON reviews.forum = submissions.id\n",
    "WHERE submissions.conf_year in (2017,2018)\n",
    "GROUP BY submissions.id\n",
    "'''\n",
    "\n",
    "df_submission = pd.read_sql_query(query,con)"
   ]
  },
  {
   "cell_type": "code",
   "execution_count": 13,
   "id": "95169479",
   "metadata": {},
   "outputs": [
    {
     "data": {
      "text/plain": [
       "(910, 16)"
      ]
     },
     "execution_count": 13,
     "metadata": {},
     "output_type": "execute_result"
    }
   ],
   "source": [
    "df_submission[df_submission['conf_year'] == '2018'].shape"
   ]
  },
  {
   "cell_type": "code",
   "execution_count": 17,
   "id": "4759e4e8",
   "metadata": {},
   "outputs": [
    {
     "data": {
      "text/html": [
       "<div>\n",
       "<style scoped>\n",
       "    .dataframe tbody tr th:only-of-type {\n",
       "        vertical-align: middle;\n",
       "    }\n",
       "\n",
       "    .dataframe tbody tr th {\n",
       "        vertical-align: top;\n",
       "    }\n",
       "\n",
       "    .dataframe thead th {\n",
       "        text-align: right;\n",
       "    }\n",
       "</style>\n",
       "<table border=\"1\" class=\"dataframe\">\n",
       "  <thead>\n",
       "    <tr style=\"text-align: right;\">\n",
       "      <th></th>\n",
       "      <th>AVG_rating</th>\n",
       "      <th>NUM_Reviews</th>\n",
       "      <th>id</th>\n",
       "      <th>original</th>\n",
       "      <th>tcdate</th>\n",
       "      <th>tmdate</th>\n",
       "      <th>number</th>\n",
       "      <th>title</th>\n",
       "      <th>authorids</th>\n",
       "      <th>authors</th>\n",
       "      <th>keywords</th>\n",
       "      <th>abstract</th>\n",
       "      <th>pdf</th>\n",
       "      <th>conf_name</th>\n",
       "      <th>conf_year</th>\n",
       "      <th>tldr</th>\n",
       "    </tr>\n",
       "  </thead>\n",
       "  <tbody>\n",
       "  </tbody>\n",
       "</table>\n",
       "</div>"
      ],
      "text/plain": [
       "Empty DataFrame\n",
       "Columns: [AVG_rating, NUM_Reviews, id, original, tcdate, tmdate, number, title, authorids, authors, keywords, abstract, pdf, conf_name, conf_year, tldr]\n",
       "Index: []"
      ]
     },
     "execution_count": 17,
     "metadata": {},
     "output_type": "execute_result"
    }
   ],
   "source": [
    "df_submission[df_submission['AVG_rating'].isna()]"
   ]
  },
  {
   "cell_type": "code",
   "execution_count": 21,
   "id": "030dc92d",
   "metadata": {},
   "outputs": [
    {
     "data": {
      "text/plain": [
       "{'ry5wc1bCW'}"
      ]
     },
     "execution_count": 21,
     "metadata": {},
     "output_type": "execute_result"
    }
   ],
   "source": [
    "query2 = '''\n",
    "SELECT\n",
    "    submissions.*\n",
    "    \n",
    "FROM submissions\n",
    "WHERE submissions.conf_year in (2017,2018)\n",
    "'''\n",
    "\n",
    "a = set(pd.read_sql_query(query2,con).id.tolist())\n",
    "b = df_submission.id.tolist()\n",
    "\n",
    "a.symmetric_difference(set(b))\n",
    "\n",
    "#this paper was rejected from the conference b/c of dual submission."
   ]
  },
  {
   "cell_type": "code",
   "execution_count": 22,
   "id": "f3501480",
   "metadata": {},
   "outputs": [],
   "source": [
    "df_submission.to_csv('../data/database/outputs/df_submission_rating.csv',index=False)"
   ]
  }
 ],
 "metadata": {
  "kernelspec": {
   "display_name": "Python 3 (ipykernel)",
   "language": "python",
   "name": "python3"
  },
  "language_info": {
   "codemirror_mode": {
    "name": "ipython",
    "version": 3
   },
   "file_extension": ".py",
   "mimetype": "text/x-python",
   "name": "python",
   "nbconvert_exporter": "python",
   "pygments_lexer": "ipython3",
   "version": "3.10.4"
  }
 },
 "nbformat": 4,
 "nbformat_minor": 5
}
